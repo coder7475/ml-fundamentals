{
 "cells": [
  {
   "cell_type": "markdown",
   "metadata": {},
   "source": [
    "# Exploring Clustering Techniques with Machine Learning\n",
    "\n",
    "In contrast to _supervised_ machine learning, _unsupervised_ learning is used when there is no \"ground truth\" from which to train and validate label predictions. The most common form of unsupervised learning is _clustering_, which is similar conceptually to _classification_, except that the the training data does not include known values for the class label to be predicted. **Clustering works by separating the training cases based on similarities** that can be determined from their feature values. Think of it this way; **the numeric features of a given entity can be thought of as vector coordinates that define the entity's position in n-dimensional space**. What a clustering model seeks to do is to identify groups, or _clusters_, of entities that are close to one another while being separated from other clusters.\n"
   ]
  },
  {
   "cell_type": "markdown",
   "metadata": {},
   "source": [
    "## Topics\n",
    "\n",
    "**Explore unsupervised clustering** using a seeds dataset.\n",
    "\n",
    "**Visualize high-dimensional data** with Principal Component Analysis (PCA).\n",
    "\n",
    "**Determine optimal cluster count** using the \"elbow\" method.\n",
    "\n",
    "**Implement K-Means and Agglomerative Clustering** to group seed samples.\n",
    "\n",
    "**Compare clusters** against actual species labels to evaluate performance.\n"
   ]
  },
  {
   "cell_type": "markdown",
   "metadata": {},
   "source": [
    "## Load Data"
   ]
  },
  {
   "cell_type": "code",
   "execution_count": 4,
   "metadata": {},
   "outputs": [
    {
     "data": {
      "text/html": [
       "<div>\n",
       "<style scoped>\n",
       "    .dataframe tbody tr th:only-of-type {\n",
       "        vertical-align: middle;\n",
       "    }\n",
       "\n",
       "    .dataframe tbody tr th {\n",
       "        vertical-align: top;\n",
       "    }\n",
       "\n",
       "    .dataframe thead th {\n",
       "        text-align: right;\n",
       "    }\n",
       "</style>\n",
       "<table border=\"1\" class=\"dataframe\">\n",
       "  <thead>\n",
       "    <tr style=\"text-align: right;\">\n",
       "      <th></th>\n",
       "      <th>area</th>\n",
       "      <th>perimeter</th>\n",
       "      <th>compactness</th>\n",
       "      <th>kernel_length</th>\n",
       "      <th>kernel_width</th>\n",
       "      <th>asymmetry_coefficient</th>\n",
       "      <th>groove_length</th>\n",
       "      <th>species</th>\n",
       "    </tr>\n",
       "  </thead>\n",
       "  <tbody>\n",
       "    <tr>\n",
       "      <th>73</th>\n",
       "      <td>19.11</td>\n",
       "      <td>16.26</td>\n",
       "      <td>0.9081</td>\n",
       "      <td>6.154</td>\n",
       "      <td>3.930</td>\n",
       "      <td>2.936</td>\n",
       "      <td>6.079</td>\n",
       "      <td>1</td>\n",
       "    </tr>\n",
       "    <tr>\n",
       "      <th>49</th>\n",
       "      <td>14.86</td>\n",
       "      <td>14.67</td>\n",
       "      <td>0.8676</td>\n",
       "      <td>5.678</td>\n",
       "      <td>3.258</td>\n",
       "      <td>2.129</td>\n",
       "      <td>5.351</td>\n",
       "      <td>0</td>\n",
       "    </tr>\n",
       "    <tr>\n",
       "      <th>100</th>\n",
       "      <td>16.41</td>\n",
       "      <td>15.25</td>\n",
       "      <td>0.8866</td>\n",
       "      <td>5.718</td>\n",
       "      <td>3.525</td>\n",
       "      <td>4.217</td>\n",
       "      <td>5.618</td>\n",
       "      <td>1</td>\n",
       "    </tr>\n",
       "    <tr>\n",
       "      <th>205</th>\n",
       "      <td>12.19</td>\n",
       "      <td>13.20</td>\n",
       "      <td>0.8783</td>\n",
       "      <td>5.137</td>\n",
       "      <td>2.981</td>\n",
       "      <td>3.631</td>\n",
       "      <td>4.870</td>\n",
       "      <td>2</td>\n",
       "    </tr>\n",
       "    <tr>\n",
       "      <th>28</th>\n",
       "      <td>14.11</td>\n",
       "      <td>14.18</td>\n",
       "      <td>0.8820</td>\n",
       "      <td>5.541</td>\n",
       "      <td>3.221</td>\n",
       "      <td>2.754</td>\n",
       "      <td>5.038</td>\n",
       "      <td>0</td>\n",
       "    </tr>\n",
       "    <tr>\n",
       "      <th>89</th>\n",
       "      <td>20.88</td>\n",
       "      <td>17.05</td>\n",
       "      <td>0.9031</td>\n",
       "      <td>6.450</td>\n",
       "      <td>4.032</td>\n",
       "      <td>5.016</td>\n",
       "      <td>6.321</td>\n",
       "      <td>1</td>\n",
       "    </tr>\n",
       "    <tr>\n",
       "      <th>116</th>\n",
       "      <td>18.96</td>\n",
       "      <td>16.20</td>\n",
       "      <td>0.9077</td>\n",
       "      <td>6.051</td>\n",
       "      <td>3.897</td>\n",
       "      <td>4.334</td>\n",
       "      <td>5.750</td>\n",
       "      <td>1</td>\n",
       "    </tr>\n",
       "    <tr>\n",
       "      <th>45</th>\n",
       "      <td>13.80</td>\n",
       "      <td>14.04</td>\n",
       "      <td>0.8794</td>\n",
       "      <td>5.376</td>\n",
       "      <td>3.155</td>\n",
       "      <td>1.560</td>\n",
       "      <td>4.961</td>\n",
       "      <td>0</td>\n",
       "    </tr>\n",
       "    <tr>\n",
       "      <th>113</th>\n",
       "      <td>19.14</td>\n",
       "      <td>16.61</td>\n",
       "      <td>0.8722</td>\n",
       "      <td>6.259</td>\n",
       "      <td>3.737</td>\n",
       "      <td>6.682</td>\n",
       "      <td>6.053</td>\n",
       "      <td>1</td>\n",
       "    </tr>\n",
       "    <tr>\n",
       "      <th>12</th>\n",
       "      <td>13.89</td>\n",
       "      <td>14.02</td>\n",
       "      <td>0.8880</td>\n",
       "      <td>5.439</td>\n",
       "      <td>3.199</td>\n",
       "      <td>3.986</td>\n",
       "      <td>4.738</td>\n",
       "      <td>0</td>\n",
       "    </tr>\n",
       "  </tbody>\n",
       "</table>\n",
       "</div>"
      ],
      "text/plain": [
       "      area  perimeter  ...  groove_length  species\n",
       "73   19.11      16.26  ...          6.079        1\n",
       "49   14.86      14.67  ...          5.351        0\n",
       "100  16.41      15.25  ...          5.618        1\n",
       "205  12.19      13.20  ...          4.870        2\n",
       "28   14.11      14.18  ...          5.038        0\n",
       "89   20.88      17.05  ...          6.321        1\n",
       "116  18.96      16.20  ...          5.750        1\n",
       "45   13.80      14.04  ...          4.961        0\n",
       "113  19.14      16.61  ...          6.053        1\n",
       "12   13.89      14.02  ...          4.738        0\n",
       "\n",
       "[10 rows x 8 columns]"
      ]
     },
     "execution_count": 4,
     "metadata": {},
     "output_type": "execute_result"
    }
   ],
   "source": [
    "import pandas as pd\n",
    "\n",
    "# Load the training dataset\n",
    "data = pd.read_csv('./../../data/seeds.csv')\n",
    "\n",
    "# Display random sample of 10 observations\n",
    "features = data.sample(10)\n",
    "features"
   ]
  },
  {
   "cell_type": "markdown",
   "metadata": {},
   "source": [
    "# Reduce Dimensionality with PLC\n",
    "\n",
    "As you can see, the dataset contains six data points (or _features_) for each instance (_observation_) of a seed. So you could interpret these as coordinates that describe each instance's location in six-dimensional space.\n",
    "\n",
    "Now, of course six-dimensional space is difficult to visualise in a three-dimensional world, or on a two-dimensional plot; so we'll take advantage of a mathematical technique called _Principal Component Analysis_ (PCA) to analyze the relationships between the features and summarize each observation as coordinates for two principal components - in other words, we'll translate the six-dimensional feature values into two-dimensional coordinates."
   ]
  },
  {
   "cell_type": "code",
   "execution_count": 11,
   "metadata": {},
   "outputs": [
    {
     "name": "stdout",
     "output_type": "stream",
     "text": [
      "[[0.79631761 0.79480519 1.         0.77456207 0.90294957 0.26864506]\n",
      " [0.30724971 0.38181818 0.         0.41203351 0.26355852 0.11108942]\n",
      " [0.48561565 0.53246753 0.4691358  0.4424981  0.51760228 0.51874268]\n",
      " [0.         0.         0.26419753 0.         0.         0.40433424]\n",
      " [0.22094361 0.25454545 0.35555556 0.30769231 0.22835395 0.23311207]\n",
      " [1.         1.         0.87654321 1.         1.         0.67473643]\n",
      " [0.77905639 0.77922078 0.99012346 0.69611577 0.8715509  0.54158532]\n",
      " [0.18527043 0.21818182 0.29135802 0.18202589 0.16555661 0.        ]\n",
      " [0.79976985 0.88571429 0.11358025 0.85453161 0.71931494 1.        ]\n",
      " [0.19562716 0.21298701 0.5037037  0.23000762 0.2074215  0.47364311]]\n"
     ]
    }
   ],
   "source": [
    "# Project 6D data into 2D for visualization\n",
    "\n",
    "from sklearn.preprocessing import MinMaxScaler\n",
    "from sklearn.decomposition import PCA\n",
    "\n",
    "# Normalize the numeric features so that they're on the same scale\n",
    "\n",
    "scaled_features = MinMaxScaler().fit_transform(features[data.columns[0:6]])\n",
    "print(scaled_features[0:10])"
   ]
  },
  {
   "cell_type": "code",
   "execution_count": 12,
   "metadata": {},
   "outputs": [
    {
     "data": {
      "text/plain": [
       "array([[ 0.73411958,  0.41489795],\n",
       "       [-0.50996429, -0.18907403],\n",
       "       [ 0.02717431, -0.06135086],\n",
       "       [-0.97277773, -0.01623214],\n",
       "       [-0.52339073,  0.06547864],\n",
       "       [ 1.11950563,  0.01748559],\n",
       "       [ 0.73131124,  0.26971911],\n",
       "       [-0.71661218,  0.16696646],\n",
       "       [ 0.60253649, -0.73696996],\n",
       "       [-0.49190233,  0.06907924]])"
      ]
     },
     "execution_count": 12,
     "metadata": {},
     "output_type": "execute_result"
    }
   ],
   "source": [
    "# Get the two principle components\n",
    "pca = PCA(n_components=2).fit(scaled_features)\n",
    "features_2d = pca.transform(scaled_features)\n",
    "\n",
    "features_2d[0:10]"
   ]
  },
  {
   "cell_type": "code",
   "execution_count": 16,
   "metadata": {},
   "outputs": [
    {
     "data": {
      "image/png": "[encoded data removed]",
      "text/plain": [
       "<Figure size 640x480 with 1 Axes>"
      ]
     },
     "metadata": {},
     "output_type": "display_data"
    }
   ],
   "source": [
    "# Visualize features 2d\n",
    "import matplotlib.pyplot as plt\n",
    "\n",
    "%matplotlib inline\n",
    "\n",
    "plt.scatter(features_2d[:, 0], features_2d[:, 1])\n",
    "plt.xlabel('Dimension 1')\n",
    "plt.ylabel('Dimension 2')\n",
    "plt.title('Data')\n",
    "plt.show()"
   ]
  },
  {
   "cell_type": "markdown",
   "metadata": {},
   "source": [
    "\n",
    "## **3. Determine Optimal Clusters with the Elbow Method**\n",
    "\n",
    "One way we can try to find out is to use a data sample to create a series of clustering models with an incrementing number of clusters, and measure how tightly the data points are grouped within each cluster. A metric often used to measure this tightness is the _within cluster sum of squares_ (WCSS), with lower values meaning that the data points are closer. You can then plot the WCSS for each model.\n"
   ]
  },
  {
   "cell_type": "code",
   "execution_count": 17,
   "metadata": {},
   "outputs": [
    {
     "data": {
      "image/png": "[encoded data removed]",
      "text/plain": [
       "<Figure size 640x480 with 1 Axes>"
      ]
     },
     "metadata": {},
     "output_type": "display_data"
    }
   ],
   "source": [
    "#importing the libraries\n",
    "import numpy as np\n",
    "import matplotlib.pyplot as plt\n",
    "from sklearn.cluster import KMeans\n",
    "%matplotlib inline\n",
    "\n",
    "# Create 10 models with 1 to 10 clusters\n",
    "wcss = []\n",
    "for i in range(1, 11):\n",
    "    kmeans = KMeans(n_clusters = i)\n",
    "    # Fit the data points\n",
    "    kmeans.fit(features.values)\n",
    "    # Get the WCSS (inertia) value\n",
    "    wcss.append(kmeans.inertia_)\n",
    "    \n",
    "#Plot the WCSS values onto a line graph\n",
    "plt.plot(range(1, 11), wcss)\n",
    "plt.title('WCSS by Clusters')\n",
    "plt.xlabel('Number of clusters')\n",
    "plt.ylabel('WCSS')\n",
    "plt.show()  "
   ]
  },
  {
   "cell_type": "markdown",
   "metadata": {},
   "source": [
    "The plot shows a large reduction in WCSS (so greater _tightness_) as the number of clusters increases from one to two, and a further noticable reduction from two to three clusters. After that, the reduction is less pronounced, resulting in an \"elbow\" in the chart at around three clusters. This is a good indication that there are two to three reasonably well separated clusters of data points.\n"
   ]
  },
  {
   "cell_type": "markdown",
   "metadata": {},
   "source": [
    "## **4. Apply K-Means Clustering**\n",
    "\n",
    "The algorithm we used to create our test clusters is _K-Means_. This is a commonly used clustering algorithm that separates a dataset into _K_ clusters of equal variance. The number of clusters, _K_, is user defined. The basic algorithm has the following steps:\n",
    "\n",
    "A set of K centroids are randomly chosen.\n",
    "\n",
    "Clusters are formed by assigning the data points to their closest centroid.\n",
    "\n",
    "The means of each cluster is computed and the centroid is moved to the mean.\n",
    "\n",
    "Steps 2 and 3 are repeated until a stopping criteria is met. Typically, the algorithm terminates when each new iteration results in negligable movement of centroids and the clusters become static.\n",
    "\n",
    "When the clusters stop changing, the algorithm has _converged_, defining the locations of the clusters - note that the random starting point for the centroids means that re-running the algorithm could result in slightly different clusters, so training usually involves multiple iterations, reinitializing the centroids each time, and the model with the best WCSS is selected.\n",
    "\n",
    "Let's try using K-Means on our seeds data with a K value of 3.\n"
   ]
  },
  {
   "cell_type": "code",
   "execution_count": 19,
   "metadata": {},
   "outputs": [
    {
     "data": {
      "text/plain": [
       "array([2, 0, 2, 0, 0, 1, 2, 0, 1, 0], dtype=int32)"
      ]
     },
     "execution_count": 19,
     "metadata": {},
     "output_type": "execute_result"
    }
   ],
   "source": [
    "from sklearn.cluster import KMeans\n",
    "\n",
    "# Create a model based on 3 centroids\n",
    "model = KMeans(n_clusters=3, init='k-means++', n_init=100, max_iter=100)\n",
    "\n",
    "# fit the data and predict the cluster assignments for each data point\n",
    "km_clusters = model.fit_predict(features.values)\n",
    "\n",
    "# View cluster assignments\n",
    "km_clusters\n"
   ]
  },
  {
   "cell_type": "code",
   "execution_count": null,
   "metadata": {},
   "outputs": [],
   "source": []
  }
 ],
 "metadata": {
  "kernelspec": {
   "display_name": "venv",
   "language": "python",
   "name": "python3"
  },
  "language_info": {
   "codemirror_mode": {
    "name": "ipython",
    "version": 3
   },
   "file_extension": ".py",
   "mimetype": "text/x-python",
   "name": "python",
   "nbconvert_exporter": "python",
   "pygments_lexer": "ipython3",
   "version": "3.11.12"
  }
 },
 "nbformat": 4,
 "nbformat_minor": 2
}
