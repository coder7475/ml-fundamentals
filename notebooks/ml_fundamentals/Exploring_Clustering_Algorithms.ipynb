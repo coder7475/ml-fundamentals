{
 "cells": [
  {
   "cell_type": "markdown",
   "metadata": {},
   "source": [
    "# Exploring Clustering Techniques with Machine Learning\n",
    "\n",
    "In contrast to _supervised_ machine learning, _unsupervised_ learning is used when there is no \"ground truth\" from which to train and validate label predictions. The most common form of unsupervised learning is _clustering_, which is similar conceptually to _classification_, except that the the training data does not include known values for the class label to be predicted. **Clustering works by separating the training cases based on similarities** that can be determined from their feature values. Think of it this way; **the numeric features of a given entity can be thought of as vector coordinates that define the entity's position in n-dimensional space**. What a clustering model seeks to do is to identify groups, or _clusters_, of entities that are close to one another while being separated from other clusters.\n"
   ]
  },
  {
   "cell_type": "markdown",
   "metadata": {},
   "source": [
    "## Topics\n",
    "\n",
    "**Explore unsupervised clustering** using a seeds dataset.\n",
    "\n",
    "**Visualize high-dimensional data** with Principal Component Analysis (PCA).\n",
    "\n",
    "**Determine optimal cluster count** using the \"elbow\" method.\n",
    "\n",
    "**Implement K-Means and Agglomerative Clustering** to group seed samples.\n",
    "\n",
    "**Compare clusters** against actual species labels to evaluate performance.\n"
   ]
  },
  {
   "cell_type": "code",
   "execution_count": null,
   "metadata": {
    "vscode": {
     "languageId": "plaintext"
    }
   },
   "outputs": [],
   "source": []
  }
 ],
 "metadata": {
  "language_info": {
   "name": "python"
  }
 },
 "nbformat": 4,
 "nbformat_minor": 2
}
