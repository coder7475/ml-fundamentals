{
 "cells": [
  {
   "cell_type": "markdown",
   "metadata": {},
   "source": [
    "# Understanding Classification in ML\n",
    "\n",
    "**Supervised machine learning** techniques involve training a model to operate on a set of _features_ and predict a _label_ using a dataset that incluses some already known label values. \n",
    "\n",
    "You can think of this function like this, in which **_y_** represents the label we want to predict and **_X_** represents the vector of features the model uses to predict it.\n",
    "\n",
    "$$y = f([x_1, x_2, x_3, ...])$$\n"
   ]
  },
  {
   "cell_type": "markdown",
   "metadata": {},
   "source": [
    "**Classificatioin** is a form of supervised machine learning algorithm in which you train a model to use the features (the _x_ value of our function) to predict a label(_y_) that calculates the probability of the observed case belonging to each of a number of possible classes, and predicting an appropriate label. \n",
    "\n",
    "The simplest form of classification is _binary classification_, in which the label is 0 or 1, representing two classes; for example \"True\" or \"False\"; \"Internal\" or \"External\" and so on."
   ]
  }
 ],
 "metadata": {
  "kernelspec": {
   "display_name": "venv",
   "language": "python",
   "name": "python3"
  },
  "language_info": {
   "name": "python",
   "version": "3.12.3"
  }
 },
 "nbformat": 4,
 "nbformat_minor": 2
}
