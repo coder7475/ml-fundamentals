{
 "cells": [
  {
   "cell_type": "markdown",
   "metadata": {},
   "source": [
    "# Text Representation using word2vec"
   ]
  },
  {
   "cell_type": "code",
   "execution_count": 1,
   "metadata": {},
   "outputs": [
    {
     "name": "stdout",
     "output_type": "stream",
     "text": [
      "Collecting wget\n",
      "  Downloading wget-3.2.zip (10 kB)\n",
      "  Preparing metadata (setup.py) ... \u001b[?25ldone\n",
      "\u001b[?25hBuilding wheels for collected packages: wget\n",
      "\u001b[33m  DEPRECATION: Building 'wget' using the legacy setup.py bdist_wheel mechanism, which will be removed in a future version. pip 25.3 will enforce this behaviour change. A possible replacement is to use the standardized build interface by setting the `--use-pep517` option, (possibly combined with `--no-build-isolation`), or adding a `pyproject.toml` file to the source tree of 'wget'. Discussion can be found at https://github.com/pypa/pip/issues/6334\u001b[0m\u001b[33m\n",
      "\u001b[0m  Building wheel for wget (setup.py) ... \u001b[?25ldone\n",
      "\u001b[?25h  Created wheel for wget: filename=wget-3.2-py3-none-any.whl size=9685 sha256=348ceeaec7b52bf45671c8bac052d8978ea347344775b06b89c7e08cf794d6c5\n",
      "  Stored in directory: /home/fahad/.cache/pip/wheels/40/b3/0f/a40dbd1c6861731779f62cc4babcb234387e11d697df70ee97\n",
      "Successfully built wget\n",
      "Installing collected packages: wget\n",
      "Successfully installed wget-3.2\n",
      "Note: you may need to restart the kernel to use updated packages.\n"
     ]
    }
   ],
   "source": [
    "%pip install wget"
   ]
  },
  {
   "cell_type": "code",
   "execution_count": 2,
   "metadata": {},
   "outputs": [],
   "source": [
    "# download word2vec \n",
    "import os\n",
    "import wget\n",
    "import gzip\n",
    "import shutil\n",
    "\n",
    "# Create a directory for the model\n",
    "model_dir = 'embeddings'\n",
    "os.makedirs(model_dir, exist_ok=True)"
   ]
  },
  {
   "cell_type": "code",
   "execution_count": 4,
   "metadata": {},
   "outputs": [],
   "source": [
    "# Define paths\n",
    "gn_vec_bin = os.path.join(model_dir, \"GoogleNews-vectors-negative300.bin\")\n",
    "gn_vec_gz = os.path.join(model_dir, \"GoogleNews-vectors-negative300.bin.gz\")\n",
    "\n",
    "# Download the compressed model if not already present\n",
    "#if not os.path.exists(gn_vec_gz):\n",
    "##    wget.download(\"https://figshare.com/ndownloader/files/10798046\", out=gn_vec_gz)"
   ]
  },
  {
   "cell_type": "code",
   "execution_count": 6,
   "metadata": {},
   "outputs": [
    {
     "ename": "BadGzipFile",
     "evalue": "Not a gzipped file (b'30')",
     "output_type": "error",
     "traceback": [
      "\u001b[31m---------------------------------------------------------------------------\u001b[39m",
      "\u001b[31mBadGzipFile\u001b[39m                               Traceback (most recent call last)",
      "\u001b[36mCell\u001b[39m\u001b[36m \u001b[39m\u001b[32mIn[6]\u001b[39m\u001b[32m, line 4\u001b[39m\n\u001b[32m      2\u001b[39m \u001b[38;5;28;01mwith\u001b[39;00m gzip.open(gn_vec_gz, \u001b[33m'\u001b[39m\u001b[33mrb\u001b[39m\u001b[33m'\u001b[39m) \u001b[38;5;28;01mas\u001b[39;00m f_in:\n\u001b[32m      3\u001b[39m     \u001b[38;5;28;01mwith\u001b[39;00m \u001b[38;5;28mopen\u001b[39m(gn_vec_bin, \u001b[33m'\u001b[39m\u001b[33mwb\u001b[39m\u001b[33m'\u001b[39m) \u001b[38;5;28;01mas\u001b[39;00m f_out:\n\u001b[32m----> \u001b[39m\u001b[32m4\u001b[39m         \u001b[43mshutil\u001b[49m\u001b[43m.\u001b[49m\u001b[43mcopyfileobj\u001b[49m\u001b[43m(\u001b[49m\u001b[43mf_in\u001b[49m\u001b[43m,\u001b[49m\u001b[43m \u001b[49m\u001b[43mf_out\u001b[49m\u001b[43m)\u001b[49m;\n\u001b[32m      6\u001b[39m \u001b[38;5;28mprint\u001b[39m(\u001b[33mf\u001b[39m\u001b[33m\"\u001b[39m\u001b[33mModel is ready at \u001b[39m\u001b[38;5;132;01m{\u001b[39;00mgn_vec_bin\u001b[38;5;132;01m}\u001b[39;00m\u001b[33m\"\u001b[39m)\n",
      "\u001b[36mFile \u001b[39m\u001b[32m/usr/lib/python3.11/shutil.py:197\u001b[39m, in \u001b[36mcopyfileobj\u001b[39m\u001b[34m(fsrc, fdst, length)\u001b[39m\n\u001b[32m    195\u001b[39m fdst_write = fdst.write\n\u001b[32m    196\u001b[39m \u001b[38;5;28;01mwhile\u001b[39;00m \u001b[38;5;28;01mTrue\u001b[39;00m:\n\u001b[32m--> \u001b[39m\u001b[32m197\u001b[39m     buf = \u001b[43mfsrc_read\u001b[49m\u001b[43m(\u001b[49m\u001b[43mlength\u001b[49m\u001b[43m)\u001b[49m\n\u001b[32m    198\u001b[39m     \u001b[38;5;28;01mif\u001b[39;00m \u001b[38;5;129;01mnot\u001b[39;00m buf:\n\u001b[32m    199\u001b[39m         \u001b[38;5;28;01mbreak\u001b[39;00m\n",
      "\u001b[36mFile \u001b[39m\u001b[32m/usr/lib/python3.11/gzip.py:301\u001b[39m, in \u001b[36mGzipFile.read\u001b[39m\u001b[34m(self, size)\u001b[39m\n\u001b[32m    299\u001b[39m     \u001b[38;5;28;01mimport\u001b[39;00m\u001b[38;5;250m \u001b[39m\u001b[34;01merrno\u001b[39;00m\n\u001b[32m    300\u001b[39m     \u001b[38;5;28;01mraise\u001b[39;00m \u001b[38;5;167;01mOSError\u001b[39;00m(errno.EBADF, \u001b[33m\"\u001b[39m\u001b[33mread() on write-only GzipFile object\u001b[39m\u001b[33m\"\u001b[39m)\n\u001b[32m--> \u001b[39m\u001b[32m301\u001b[39m \u001b[38;5;28;01mreturn\u001b[39;00m \u001b[38;5;28;43mself\u001b[39;49m\u001b[43m.\u001b[49m\u001b[43m_buffer\u001b[49m\u001b[43m.\u001b[49m\u001b[43mread\u001b[49m\u001b[43m(\u001b[49m\u001b[43msize\u001b[49m\u001b[43m)\u001b[49m\n",
      "\u001b[36mFile \u001b[39m\u001b[32m/usr/lib/python3.11/_compression.py:68\u001b[39m, in \u001b[36mDecompressReader.readinto\u001b[39m\u001b[34m(self, b)\u001b[39m\n\u001b[32m     66\u001b[39m \u001b[38;5;28;01mdef\u001b[39;00m\u001b[38;5;250m \u001b[39m\u001b[34mreadinto\u001b[39m(\u001b[38;5;28mself\u001b[39m, b):\n\u001b[32m     67\u001b[39m     \u001b[38;5;28;01mwith\u001b[39;00m \u001b[38;5;28mmemoryview\u001b[39m(b) \u001b[38;5;28;01mas\u001b[39;00m view, view.cast(\u001b[33m\"\u001b[39m\u001b[33mB\u001b[39m\u001b[33m\"\u001b[39m) \u001b[38;5;28;01mas\u001b[39;00m byte_view:\n\u001b[32m---> \u001b[39m\u001b[32m68\u001b[39m         data = \u001b[38;5;28;43mself\u001b[39;49m\u001b[43m.\u001b[49m\u001b[43mread\u001b[49m\u001b[43m(\u001b[49m\u001b[38;5;28;43mlen\u001b[39;49m\u001b[43m(\u001b[49m\u001b[43mbyte_view\u001b[49m\u001b[43m)\u001b[49m\u001b[43m)\u001b[49m\n\u001b[32m     69\u001b[39m         byte_view[:\u001b[38;5;28mlen\u001b[39m(data)] = data\n\u001b[32m     70\u001b[39m     \u001b[38;5;28;01mreturn\u001b[39;00m \u001b[38;5;28mlen\u001b[39m(data)\n",
      "\u001b[36mFile \u001b[39m\u001b[32m/usr/lib/python3.11/gzip.py:499\u001b[39m, in \u001b[36m_GzipReader.read\u001b[39m\u001b[34m(self, size)\u001b[39m\n\u001b[32m    495\u001b[39m \u001b[38;5;28;01mif\u001b[39;00m \u001b[38;5;28mself\u001b[39m._new_member:\n\u001b[32m    496\u001b[39m     \u001b[38;5;66;03m# If the _new_member flag is set, we have to\u001b[39;00m\n\u001b[32m    497\u001b[39m     \u001b[38;5;66;03m# jump to the next member, if there is one.\u001b[39;00m\n\u001b[32m    498\u001b[39m     \u001b[38;5;28mself\u001b[39m._init_read()\n\u001b[32m--> \u001b[39m\u001b[32m499\u001b[39m     \u001b[38;5;28;01mif\u001b[39;00m \u001b[38;5;129;01mnot\u001b[39;00m \u001b[38;5;28;43mself\u001b[39;49m\u001b[43m.\u001b[49m\u001b[43m_read_gzip_header\u001b[49m\u001b[43m(\u001b[49m\u001b[43m)\u001b[49m:\n\u001b[32m    500\u001b[39m         \u001b[38;5;28mself\u001b[39m._size = \u001b[38;5;28mself\u001b[39m._pos\n\u001b[32m    501\u001b[39m         \u001b[38;5;28;01mreturn\u001b[39;00m \u001b[33mb\u001b[39m\u001b[33m\"\u001b[39m\u001b[33m\"\u001b[39m\n",
      "\u001b[36mFile \u001b[39m\u001b[32m/usr/lib/python3.11/gzip.py:468\u001b[39m, in \u001b[36m_GzipReader._read_gzip_header\u001b[39m\u001b[34m(self)\u001b[39m\n\u001b[32m    467\u001b[39m \u001b[38;5;28;01mdef\u001b[39;00m\u001b[38;5;250m \u001b[39m\u001b[34m_read_gzip_header\u001b[39m(\u001b[38;5;28mself\u001b[39m):\n\u001b[32m--> \u001b[39m\u001b[32m468\u001b[39m     last_mtime = \u001b[43m_read_gzip_header\u001b[49m\u001b[43m(\u001b[49m\u001b[38;5;28;43mself\u001b[39;49m\u001b[43m.\u001b[49m\u001b[43m_fp\u001b[49m\u001b[43m)\u001b[49m\n\u001b[32m    469\u001b[39m     \u001b[38;5;28;01mif\u001b[39;00m last_mtime \u001b[38;5;129;01mis\u001b[39;00m \u001b[38;5;28;01mNone\u001b[39;00m:\n\u001b[32m    470\u001b[39m         \u001b[38;5;28;01mreturn\u001b[39;00m \u001b[38;5;28;01mFalse\u001b[39;00m\n",
      "\u001b[36mFile \u001b[39m\u001b[32m/usr/lib/python3.11/gzip.py:428\u001b[39m, in \u001b[36m_read_gzip_header\u001b[39m\u001b[34m(fp)\u001b[39m\n\u001b[32m    425\u001b[39m     \u001b[38;5;28;01mreturn\u001b[39;00m \u001b[38;5;28;01mNone\u001b[39;00m\n\u001b[32m    427\u001b[39m \u001b[38;5;28;01mif\u001b[39;00m magic != \u001b[33mb\u001b[39m\u001b[33m'\u001b[39m\u001b[38;5;130;01m\\037\u001b[39;00m\u001b[38;5;130;01m\\213\u001b[39;00m\u001b[33m'\u001b[39m:\n\u001b[32m--> \u001b[39m\u001b[32m428\u001b[39m     \u001b[38;5;28;01mraise\u001b[39;00m BadGzipFile(\u001b[33m'\u001b[39m\u001b[33mNot a gzipped file (\u001b[39m\u001b[38;5;132;01m%r\u001b[39;00m\u001b[33m)\u001b[39m\u001b[33m'\u001b[39m % magic)\n\u001b[32m    430\u001b[39m (method, flag, last_mtime) = struct.unpack(\u001b[33m\"\u001b[39m\u001b[33m<BBIxx\u001b[39m\u001b[33m\"\u001b[39m, _read_exact(fp, \u001b[32m8\u001b[39m))\n\u001b[32m    431\u001b[39m \u001b[38;5;28;01mif\u001b[39;00m method != \u001b[32m8\u001b[39m:\n",
      "\u001b[31mBadGzipFile\u001b[39m: Not a gzipped file (b'30')"
     ]
    }
   ],
   "source": [
    "# Extract the binary file if not already extracted\n",
    "with gzip.open(gn_vec_gz, 'rb') as f_in:\n",
    "    with open(gn_vec_bin, 'wb') as f_out:\n",
    "        shutil.copyfileobj(f_in, f_out);\n",
    "\n",
    "print(f\"Model is ready at {gn_vec_bin}\")"
   ]
  },
  {
   "cell_type": "markdown",
   "metadata": {},
   "source": [
    "### Getting the embedding representation for full text"
   ]
  },
  {
   "cell_type": "code",
   "execution_count": 13,
   "metadata": {},
   "outputs": [
    {
     "name": "stdout",
     "output_type": "stream",
     "text": [
      "Requirement already satisfied: spacy in /home/fahad/projects/personal/mlops/ml_fundamentals/venv/lib/python3.11/site-packages (3.8.7)\n",
      "Requirement already satisfied: spacy-legacy<3.1.0,>=3.0.11 in /home/fahad/projects/personal/mlops/ml_fundamentals/venv/lib/python3.11/site-packages (from spacy) (3.0.12)\n",
      "Requirement already satisfied: spacy-loggers<2.0.0,>=1.0.0 in /home/fahad/projects/personal/mlops/ml_fundamentals/venv/lib/python3.11/site-packages (from spacy) (1.0.5)\n",
      "Requirement already satisfied: murmurhash<1.1.0,>=0.28.0 in /home/fahad/projects/personal/mlops/ml_fundamentals/venv/lib/python3.11/site-packages (from spacy) (1.0.13)\n",
      "Requirement already satisfied: cymem<2.1.0,>=2.0.2 in /home/fahad/projects/personal/mlops/ml_fundamentals/venv/lib/python3.11/site-packages (from spacy) (2.0.11)\n",
      "Requirement already satisfied: preshed<3.1.0,>=3.0.2 in /home/fahad/projects/personal/mlops/ml_fundamentals/venv/lib/python3.11/site-packages (from spacy) (3.0.10)\n",
      "Requirement already satisfied: thinc<8.4.0,>=8.3.4 in /home/fahad/projects/personal/mlops/ml_fundamentals/venv/lib/python3.11/site-packages (from spacy) (8.3.6)\n",
      "Requirement already satisfied: wasabi<1.2.0,>=0.9.1 in /home/fahad/projects/personal/mlops/ml_fundamentals/venv/lib/python3.11/site-packages (from spacy) (1.1.3)\n",
      "Requirement already satisfied: srsly<3.0.0,>=2.4.3 in /home/fahad/projects/personal/mlops/ml_fundamentals/venv/lib/python3.11/site-packages (from spacy) (2.5.1)\n",
      "Requirement already satisfied: catalogue<2.1.0,>=2.0.6 in /home/fahad/projects/personal/mlops/ml_fundamentals/venv/lib/python3.11/site-packages (from spacy) (2.0.10)\n",
      "Requirement already satisfied: weasel<0.5.0,>=0.1.0 in /home/fahad/projects/personal/mlops/ml_fundamentals/venv/lib/python3.11/site-packages (from spacy) (0.4.1)\n",
      "Requirement already satisfied: typer<1.0.0,>=0.3.0 in /home/fahad/projects/personal/mlops/ml_fundamentals/venv/lib/python3.11/site-packages (from spacy) (0.16.0)\n",
      "Requirement already satisfied: tqdm<5.0.0,>=4.38.0 in /home/fahad/projects/personal/mlops/ml_fundamentals/venv/lib/python3.11/site-packages (from spacy) (4.66.3)\n",
      "Requirement already satisfied: numpy>=1.19.0 in /home/fahad/projects/personal/mlops/ml_fundamentals/venv/lib/python3.11/site-packages (from spacy) (2.2.6)\n",
      "Requirement already satisfied: requests<3.0.0,>=2.13.0 in /home/fahad/projects/personal/mlops/ml_fundamentals/venv/lib/python3.11/site-packages (from spacy) (2.32.3)\n",
      "Requirement already satisfied: pydantic!=1.8,!=1.8.1,<3.0.0,>=1.7.4 in /home/fahad/projects/personal/mlops/ml_fundamentals/venv/lib/python3.11/site-packages (from spacy) (2.11.5)\n",
      "Requirement already satisfied: jinja2 in /home/fahad/projects/personal/mlops/ml_fundamentals/venv/lib/python3.11/site-packages (from spacy) (3.1.6)\n",
      "Requirement already satisfied: setuptools in /home/fahad/projects/personal/mlops/ml_fundamentals/venv/lib/python3.11/site-packages (from spacy) (80.8.0)\n",
      "Requirement already satisfied: packaging>=20.0 in /home/fahad/projects/personal/mlops/ml_fundamentals/venv/lib/python3.11/site-packages (from spacy) (25.0)\n",
      "Requirement already satisfied: langcodes<4.0.0,>=3.2.0 in /home/fahad/projects/personal/mlops/ml_fundamentals/venv/lib/python3.11/site-packages (from spacy) (3.5.0)\n",
      "Requirement already satisfied: language-data>=1.2 in /home/fahad/projects/personal/mlops/ml_fundamentals/venv/lib/python3.11/site-packages (from langcodes<4.0.0,>=3.2.0->spacy) (1.3.0)\n",
      "Requirement already satisfied: annotated-types>=0.6.0 in /home/fahad/projects/personal/mlops/ml_fundamentals/venv/lib/python3.11/site-packages (from pydantic!=1.8,!=1.8.1,<3.0.0,>=1.7.4->spacy) (0.7.0)\n",
      "Requirement already satisfied: pydantic-core==2.33.2 in /home/fahad/projects/personal/mlops/ml_fundamentals/venv/lib/python3.11/site-packages (from pydantic!=1.8,!=1.8.1,<3.0.0,>=1.7.4->spacy) (2.33.2)\n",
      "Requirement already satisfied: typing-extensions>=4.12.2 in /home/fahad/projects/personal/mlops/ml_fundamentals/venv/lib/python3.11/site-packages (from pydantic!=1.8,!=1.8.1,<3.0.0,>=1.7.4->spacy) (4.13.2)\n",
      "Requirement already satisfied: typing-inspection>=0.4.0 in /home/fahad/projects/personal/mlops/ml_fundamentals/venv/lib/python3.11/site-packages (from pydantic!=1.8,!=1.8.1,<3.0.0,>=1.7.4->spacy) (0.4.1)\n",
      "Requirement already satisfied: charset-normalizer<4,>=2 in /home/fahad/projects/personal/mlops/ml_fundamentals/venv/lib/python3.11/site-packages (from requests<3.0.0,>=2.13.0->spacy) (3.4.2)\n",
      "Requirement already satisfied: idna<4,>=2.5 in /home/fahad/projects/personal/mlops/ml_fundamentals/venv/lib/python3.11/site-packages (from requests<3.0.0,>=2.13.0->spacy) (3.10)\n",
      "Requirement already satisfied: urllib3<3,>=1.21.1 in /home/fahad/projects/personal/mlops/ml_fundamentals/venv/lib/python3.11/site-packages (from requests<3.0.0,>=2.13.0->spacy) (2.4.0)\n",
      "Requirement already satisfied: certifi>=2017.4.17 in /home/fahad/projects/personal/mlops/ml_fundamentals/venv/lib/python3.11/site-packages (from requests<3.0.0,>=2.13.0->spacy) (2025.4.26)\n",
      "Requirement already satisfied: blis<1.4.0,>=1.3.0 in /home/fahad/projects/personal/mlops/ml_fundamentals/venv/lib/python3.11/site-packages (from thinc<8.4.0,>=8.3.4->spacy) (1.3.0)\n",
      "Requirement already satisfied: confection<1.0.0,>=0.0.1 in /home/fahad/projects/personal/mlops/ml_fundamentals/venv/lib/python3.11/site-packages (from thinc<8.4.0,>=8.3.4->spacy) (0.1.5)\n",
      "Requirement already satisfied: click>=8.0.0 in /home/fahad/projects/personal/mlops/ml_fundamentals/venv/lib/python3.11/site-packages (from typer<1.0.0,>=0.3.0->spacy) (8.2.1)\n",
      "Requirement already satisfied: shellingham>=1.3.0 in /home/fahad/projects/personal/mlops/ml_fundamentals/venv/lib/python3.11/site-packages (from typer<1.0.0,>=0.3.0->spacy) (1.5.4)\n",
      "Requirement already satisfied: rich>=10.11.0 in /home/fahad/projects/personal/mlops/ml_fundamentals/venv/lib/python3.11/site-packages (from typer<1.0.0,>=0.3.0->spacy) (14.0.0)\n",
      "Requirement already satisfied: cloudpathlib<1.0.0,>=0.7.0 in /home/fahad/projects/personal/mlops/ml_fundamentals/venv/lib/python3.11/site-packages (from weasel<0.5.0,>=0.1.0->spacy) (0.21.1)\n",
      "Requirement already satisfied: smart-open<8.0.0,>=5.2.1 in /home/fahad/projects/personal/mlops/ml_fundamentals/venv/lib/python3.11/site-packages (from weasel<0.5.0,>=0.1.0->spacy) (7.1.0)\n",
      "Requirement already satisfied: wrapt in /home/fahad/projects/personal/mlops/ml_fundamentals/venv/lib/python3.11/site-packages (from smart-open<8.0.0,>=5.2.1->weasel<0.5.0,>=0.1.0->spacy) (1.17.2)\n",
      "Requirement already satisfied: marisa-trie>=1.1.0 in /home/fahad/projects/personal/mlops/ml_fundamentals/venv/lib/python3.11/site-packages (from language-data>=1.2->langcodes<4.0.0,>=3.2.0->spacy) (1.2.1)\n",
      "Requirement already satisfied: markdown-it-py>=2.2.0 in /home/fahad/projects/personal/mlops/ml_fundamentals/venv/lib/python3.11/site-packages (from rich>=10.11.0->typer<1.0.0,>=0.3.0->spacy) (3.0.0)\n",
      "Requirement already satisfied: pygments<3.0.0,>=2.13.0 in /home/fahad/projects/personal/mlops/ml_fundamentals/venv/lib/python3.11/site-packages (from rich>=10.11.0->typer<1.0.0,>=0.3.0->spacy) (2.19.1)\n",
      "Requirement already satisfied: mdurl~=0.1 in /home/fahad/projects/personal/mlops/ml_fundamentals/venv/lib/python3.11/site-packages (from markdown-it-py>=2.2.0->rich>=10.11.0->typer<1.0.0,>=0.3.0->spacy) (0.1.2)\n",
      "Requirement already satisfied: MarkupSafe>=2.0 in /home/fahad/projects/personal/mlops/ml_fundamentals/venv/lib/python3.11/site-packages (from jinja2->spacy) (3.0.2)\n",
      "Note: you may need to restart the kernel to use updated packages.\n",
      "/home/fahad/projects/personal/mlops/ml_fundamentals/venv/bin/python3: No module named spcay\n"
     ]
    }
   ],
   "source": [
    "%pip install spacy\n",
    "!python3 -m spcay download en_core_web_md"
   ]
  },
  {
   "cell_type": "code",
   "execution_count": 14,
   "metadata": {},
   "outputs": [
    {
     "name": "stdout",
     "output_type": "stream",
     "text": [
      "[-6.2595e-01 -1.8259e-01  4.1535e-02 -7.2151e-01 -1.0192e-01  1.9030e-01\n",
      " -1.1453e-01 -6.0266e-02  4.7598e-01  1.5155e+00 -6.0109e-01  5.2768e-01\n",
      " -8.4006e-01 -2.0621e-01  8.5898e-01  2.5790e-01 -2.5232e-01  2.2322e+00\n",
      "  4.2337e-01  4.1893e-01  1.7733e-01  1.7027e-01 -4.0406e-01 -7.0181e-02\n",
      " -7.6893e-01 -7.8922e-04  5.7219e-01 -2.3845e-01  7.9393e-01  6.8673e-01\n",
      " -5.9808e-01 -1.1330e-01  3.1309e-01  2.7359e-01 -3.0877e-01  2.4456e-01\n",
      " -7.1078e-02 -7.3481e-02 -4.0857e-01 -3.2255e-01  1.1706e-01 -7.5903e-01\n",
      "  4.6179e-01 -2.8339e-02  3.7233e-02 -4.3111e-01  1.8634e-01 -6.9984e-01\n",
      "  1.3452e-01  3.6564e-01 -6.0653e-01  1.7377e-01  1.3857e-01 -8.9536e-01\n",
      "  5.4238e-01  3.7256e-01  5.0257e-01 -1.7927e-01 -3.0419e-01 -1.9053e-01\n",
      "  9.1906e-02  3.7077e-01 -7.4753e-03  2.2409e-02  2.5078e-01  6.5180e-01\n",
      "  7.0354e-01 -2.7328e-01 -3.8690e-01  4.6079e-01  6.3715e-01 -5.5990e-01\n",
      "  4.2776e-01  3.6773e-01  8.8426e-01 -1.3139e-01 -2.3570e-01 -4.9076e-01\n",
      "  5.5842e-01  6.9196e-01  6.9230e-01 -2.3223e-01 -9.0676e-01  8.6241e-01\n",
      " -6.1229e-01 -7.0353e-01  7.4457e-01 -9.9053e-01 -1.5669e-01  6.4065e-01\n",
      " -8.6488e-02 -6.3540e-01 -3.3901e-02 -1.7766e-01  1.4932e-01  4.1113e-01\n",
      "  1.0290e+00  4.2205e-02 -4.3581e-02 -7.4317e-01 -3.6847e-01  8.5133e-01\n",
      "  1.8098e-01  2.2114e-01  5.8008e-01 -1.4039e+00  6.0209e-01 -5.6811e-02\n",
      " -5.2238e-02 -3.1140e-02  4.0607e-01 -1.1292e+00 -3.6843e-01  1.9268e-01\n",
      "  4.9362e-01 -2.3857e-02  5.3108e-02 -4.0779e-01  4.4894e-01  6.8086e-01\n",
      "  2.9290e-01  4.3348e-03 -2.2838e-01  4.9858e-01 -9.7468e-01  1.9463e-01\n",
      "  1.3914e-01  8.9344e-03 -2.4711e-02 -1.1472e-02  5.5949e-01 -1.0057e+00\n",
      " -1.8259e-01  2.6765e-01  8.0640e-01 -7.6705e-01 -3.8758e-01 -1.3559e-01\n",
      "  3.7884e-01 -4.1012e-01 -5.6346e-01  2.3235e-01  4.3936e-01 -8.6451e-02\n",
      "  6.5201e-01  2.9871e-01  3.8253e-01  5.9457e-01 -2.1352e-02  7.4361e-01\n",
      " -1.0752e-01 -1.5346e-02  2.4825e-02 -4.9533e-01  8.5089e-02 -1.9086e-01\n",
      " -4.6947e-01  4.8299e-01 -4.5083e-01  7.4828e-01 -5.9900e-02 -4.5240e-01\n",
      "  6.7069e-01 -4.0235e-01  1.0746e+00  4.0979e-01  8.6159e-02  1.6197e-01\n",
      " -1.2545e-01  9.9367e-02 -5.1436e-01 -4.7886e-01  2.4749e-01  1.8253e-01\n",
      " -1.3510e-01 -1.5204e-01  1.8253e-02  3.4630e-01  1.1704e-01 -2.0806e-01\n",
      "  6.9447e-01 -3.8760e-02  3.6878e-01  2.6285e-01  7.5599e-01  2.3068e-01\n",
      "  3.5691e-01 -2.8559e-01 -1.4955e-01 -1.6250e-01 -1.9892e-01  1.3848e-01\n",
      "  2.5881e-01 -6.0080e-01 -1.0343e-01  2.3650e-01  6.2500e-01 -6.7538e-02\n",
      "  1.5938e-01 -1.8876e-01  1.3596e-01 -2.1732e-01  1.9601e-01  1.7114e-01\n",
      " -1.0287e+00  7.1489e-01  3.4294e-02 -3.7797e-01 -3.5853e-01  6.6807e-01\n",
      " -9.8031e-02  3.9353e-02 -3.8119e-01 -1.1216e-01 -1.7411e-01 -1.4256e+00\n",
      " -2.4253e-01  3.3869e-01 -3.6484e-01 -1.7198e-01 -5.1355e-01 -1.0422e-02\n",
      " -4.5104e-01 -8.7043e-01 -2.1092e-02  3.8986e-01 -6.8937e-02  6.9820e-02\n",
      "  2.7322e-01  3.1588e-02  1.4801e-01  5.5268e-01  2.0825e-01 -8.0988e-01\n",
      " -6.3593e-01 -9.6065e-02  6.2196e-01 -2.9371e-01  1.1563e-01  1.6863e-01\n",
      " -8.6728e-02  2.6762e-01 -1.0693e-01 -6.7794e-01  4.2369e-01  6.3674e-02\n",
      "  1.6601e-01 -2.1475e-01  1.3805e-01 -6.2634e-01  7.4958e-01 -6.3075e-02\n",
      " -2.8021e-02 -5.3271e-01  1.5434e-01  2.7810e-01 -5.0714e-02  2.0663e-01\n",
      "  2.2204e-01 -3.4400e-01 -1.6631e-02 -5.7947e-01 -2.7289e-01  1.4363e-02\n",
      "  7.2016e-02  2.6683e-02  3.7115e-01 -1.2154e-01 -4.6030e-02  9.6920e-02\n",
      "  1.2924e-01  6.4440e-02 -6.3278e-01  9.0839e-01  2.3954e-01  3.3035e-01\n",
      " -4.9880e-01 -1.5914e-01 -8.8537e-02  8.4276e-01 -6.1405e-01 -3.0308e-01\n",
      "  8.0921e-02  9.7832e-02 -4.3095e-01  9.3994e-01 -4.5750e-02 -1.7135e-01\n",
      "  6.1613e-01  4.8859e-01  6.1618e-01 -3.1028e-01  1.0931e-01  4.7569e-01\n",
      " -6.9445e-02  1.0975e-01 -7.9499e-02 -5.8176e-01 -7.1699e-01  1.0996e+00]\n"
     ]
    }
   ],
   "source": [
    "import spacy \n",
    "\n",
    "\n",
    "nlp = spacy.load('en_core_web_md')\n",
    "\n",
    "# process a sentence using mode\n",
    "mydoc = nlp(\"Canada is a large country\")\n",
    "\n",
    "# Get a vector for individual word\n",
    "print(mydoc[0].vector)"
   ]
  },
  {
   "cell_type": "code",
   "execution_count": 15,
   "metadata": {},
   "outputs": [
    {
     "name": "stdout",
     "output_type": "stream",
     "text": [
      "[-6.34728014e-01  1.15934394e-01 -2.98869964e-02  4.20099981e-02\n",
      " -3.67478020e-02  4.15896103e-02  1.75415993e-01 -1.72071941e-02\n",
      "  7.19052032e-02  2.21598005e+00 -1.77238017e-01 -1.15464009e-01\n",
      " -1.78752810e-01 -2.10909848e-03  4.38740030e-02  3.31759974e-02\n",
      " -2.07035989e-01  1.29705787e+00  2.45502405e-03  4.44060005e-02\n",
      " -2.26073980e-01 -2.55783975e-01  3.79201164e-03 -2.58204401e-01\n",
      " -2.83650398e-01 -1.15281843e-01  3.59430015e-01  1.04026809e-01\n",
      "  5.20303957e-02 -8.42919946e-02 -1.23832203e-01 -1.36483997e-01\n",
      " -3.81584018e-02 -1.85376003e-01 -1.22726001e-01 -1.02931604e-01\n",
      " -9.99336019e-02 -1.16094187e-01 -1.00685999e-01 -1.07025996e-01\n",
      "  2.86531985e-01 -1.46295205e-01  1.21236876e-01  8.73500109e-03\n",
      "  8.22656527e-02 -2.35577583e-01  6.14646003e-02 -2.13399883e-02\n",
      " -7.77979940e-02  1.25501603e-01 -3.31021219e-01  5.10863960e-01\n",
      " -6.77040219e-03 -9.42272097e-02  3.10105979e-01  1.58439189e-01\n",
      "  1.82869211e-01  1.96739919e-02  6.72000367e-03 -4.41847965e-02\n",
      " -8.57368037e-02  2.36454066e-02 -1.02770664e-01 -1.39140397e-01\n",
      "  5.37844002e-02 -1.63148001e-01  1.56636700e-01 -1.12154402e-01\n",
      "  4.32359949e-02  2.70905018e-01  2.65410006e-01 -2.00279942e-03\n",
      "  1.12979606e-01  2.73387972e-02  3.51664245e-01  5.67639992e-02\n",
      " -8.17989931e-02 -1.52916402e-01 -9.29120183e-02  3.42995971e-01\n",
      "  1.65480599e-01  3.08760051e-02 -1.27063602e-01  2.58574009e-01\n",
      "  3.67639922e-02 -3.70194614e-01 -2.71699969e-02 -1.33987993e-01\n",
      " -1.77460000e-01 -2.63851993e-02 -1.94701597e-01  1.43958002e-01\n",
      " -2.33920187e-01 -2.22519934e-02 -1.10629603e-01  1.12635411e-01\n",
      "  6.36280179e-02  3.08370106e-02  6.31781965e-02 -2.37141207e-01\n",
      "  1.76252015e-02  2.04577997e-01 -1.03440015e-02 -7.65831918e-02\n",
      "  1.54083997e-01 -1.63720000e+00 -1.61923409e-01 -1.86782211e-01\n",
      " -6.97895959e-02 -1.64946795e-01  7.18200058e-02 -3.47108036e-01\n",
      " -1.51343986e-01 -1.56899393e-01 -6.19679987e-02 -2.06769794e-01\n",
      " -1.41274393e-01 -1.48484007e-01  7.82492012e-02  8.10379907e-02\n",
      " -1.75018430e-01  2.60333359e-01 -8.30199942e-02 -2.07323998e-01\n",
      " -3.58872205e-01  1.09344006e-01  4.36567962e-02 -2.74415106e-01\n",
      " -2.47099390e-03  3.58603969e-02  3.24937999e-01 -2.11641192e-01\n",
      "  5.53580001e-02  1.74390599e-01  2.49027580e-01 -1.34548396e-01\n",
      " -2.69858778e-01 -1.80298597e-01 -1.86659936e-02 -3.71430032e-02\n",
      " -8.91229451e-01  2.31092021e-01  4.03041989e-01  5.79494014e-02\n",
      "  2.29288012e-01 -3.70705992e-01  1.35825202e-01  1.77089989e-01\n",
      "  2.12703586e-01  9.44448113e-02 -2.84844041e-02  2.95360804e-01\n",
      "  6.06782027e-02 -6.75580055e-02 -9.91642028e-02  1.54033810e-01\n",
      " -5.72119877e-02  1.88190430e-01 -2.20582008e-01 -8.15731958e-02\n",
      "  1.75999408e-03 -8.32699910e-02  1.77504987e-01  6.52511939e-02\n",
      "  9.46227685e-02  2.03976005e-01  9.40266028e-02 -1.19243190e-01\n",
      " -3.82208079e-02 -1.60632595e-01 -2.75543213e-01 -8.41987953e-02\n",
      "  1.39891192e-01  2.83192009e-01  3.76419947e-02 -1.11275986e-01\n",
      " -1.33864999e-01  1.44975185e-01  1.95416406e-01  1.29978210e-01\n",
      "  1.45694017e-01  1.75891444e-01  9.28276032e-03  1.00547992e-01\n",
      "  2.24401951e-01 -1.50787994e-01  1.19346000e-01 -1.60813197e-01\n",
      " -2.47929655e-02  3.48340049e-02  2.88979970e-02 -3.10652051e-02\n",
      "  1.88240018e-02 -5.70199974e-02 -2.10447982e-01 -1.53562203e-01\n",
      "  1.84916601e-01  1.05235197e-01 -1.58235997e-01 -5.60228042e-02\n",
      "  2.26096794e-01 -3.24783981e-01  1.07664391e-01  1.25181198e-01\n",
      " -3.33705992e-01  1.07614815e-01 -1.77267194e-01 -9.01596025e-02\n",
      " -1.86089605e-01 -2.84955790e-03  1.58126000e-02 -9.35125947e-02\n",
      " -1.31249592e-01 -1.13750026e-01  1.44878596e-01 -1.80929989e-01\n",
      "  5.23579903e-02  1.00108005e-01 -2.06916034e-02 -1.32495388e-01\n",
      " -1.82377189e-01  7.05175996e-02 -2.49425605e-01 -2.24876329e-01\n",
      "  7.45536014e-02 -1.57673597e-01 -2.05200985e-01 -8.08283985e-02\n",
      " -7.64338002e-02  1.06865980e-01  3.42082202e-01 -7.49970004e-02\n",
      " -9.68199968e-03 -1.92046806e-01  5.05219996e-02  4.79210094e-02\n",
      " -1.47444066e-02 -2.16572002e-01  3.54259904e-03  1.40269592e-01\n",
      "  6.66443929e-02  1.19483009e-01 -1.90417200e-01 -1.48120048e-02\n",
      "  2.67793983e-01  8.43717977e-02 -3.88079807e-02 -2.00791404e-01\n",
      "  1.44766599e-01  2.75441799e-02  2.88120024e-02  7.44089931e-02\n",
      "  5.67846000e-02 -1.20087400e-01 -1.23351999e-02  1.97630793e-01\n",
      "  1.57909200e-01  7.96820074e-02 -3.92648056e-02  8.38659927e-02\n",
      " -8.82020034e-03  2.16312006e-01 -1.99740008e-02  7.71586001e-02\n",
      "  8.98420252e-03 -1.31469399e-01  7.60940323e-03 -1.21019602e-01\n",
      "  1.47352010e-01  3.53664011e-01  6.54498115e-02 -1.81881994e-01\n",
      " -4.86153990e-01 -2.66656011e-01 -1.65324807e-01 -3.01179942e-02\n",
      "  4.92819957e-02  8.84735957e-02 -8.70790035e-02  5.01074016e-01\n",
      "  1.57654002e-01  1.17616400e-01  8.67220201e-03  1.22763194e-01\n",
      " -6.42125979e-02  8.87876004e-02  1.46427199e-01 -2.62415975e-01\n",
      "  2.12435201e-01 -1.44199999e-02 -1.33770406e-01  2.22217992e-01\n",
      "  1.91921994e-01  2.27200001e-01  3.75059955e-02  4.10336018e-01\n",
      "  1.93182796e-01 -1.91281408e-01 -1.18052162e-01  5.17475978e-02]\n"
     ]
    }
   ],
   "source": [
    "# Average for entire sentence\n",
    "print(mydoc.vector)"
   ]
  },
  {
   "cell_type": "code",
   "execution_count": 16,
   "metadata": {},
   "outputs": [
    {
     "data": {
      "text/plain": [
       "array([0., 0., 0., 0., 0., 0., 0., 0., 0., 0., 0., 0., 0., 0., 0., 0., 0.,\n",
       "       0., 0., 0., 0., 0., 0., 0., 0., 0., 0., 0., 0., 0., 0., 0., 0., 0.,\n",
       "       0., 0., 0., 0., 0., 0., 0., 0., 0., 0., 0., 0., 0., 0., 0., 0., 0.,\n",
       "       0., 0., 0., 0., 0., 0., 0., 0., 0., 0., 0., 0., 0., 0., 0., 0., 0.,\n",
       "       0., 0., 0., 0., 0., 0., 0., 0., 0., 0., 0., 0., 0., 0., 0., 0., 0.,\n",
       "       0., 0., 0., 0., 0., 0., 0., 0., 0., 0., 0., 0., 0., 0., 0., 0., 0.,\n",
       "       0., 0., 0., 0., 0., 0., 0., 0., 0., 0., 0., 0., 0., 0., 0., 0., 0.,\n",
       "       0., 0., 0., 0., 0., 0., 0., 0., 0., 0., 0., 0., 0., 0., 0., 0., 0.,\n",
       "       0., 0., 0., 0., 0., 0., 0., 0., 0., 0., 0., 0., 0., 0., 0., 0., 0.,\n",
       "       0., 0., 0., 0., 0., 0., 0., 0., 0., 0., 0., 0., 0., 0., 0., 0., 0.,\n",
       "       0., 0., 0., 0., 0., 0., 0., 0., 0., 0., 0., 0., 0., 0., 0., 0., 0.,\n",
       "       0., 0., 0., 0., 0., 0., 0., 0., 0., 0., 0., 0., 0., 0., 0., 0., 0.,\n",
       "       0., 0., 0., 0., 0., 0., 0., 0., 0., 0., 0., 0., 0., 0., 0., 0., 0.,\n",
       "       0., 0., 0., 0., 0., 0., 0., 0., 0., 0., 0., 0., 0., 0., 0., 0., 0.,\n",
       "       0., 0., 0., 0., 0., 0., 0., 0., 0., 0., 0., 0., 0., 0., 0., 0., 0.,\n",
       "       0., 0., 0., 0., 0., 0., 0., 0., 0., 0., 0., 0., 0., 0., 0., 0., 0.,\n",
       "       0., 0., 0., 0., 0., 0., 0., 0., 0., 0., 0., 0., 0., 0., 0., 0., 0.,\n",
       "       0., 0., 0., 0., 0., 0., 0., 0., 0., 0., 0.], dtype=float32)"
      ]
     },
     "execution_count": 16,
     "metadata": {},
     "output_type": "execute_result"
    }
   ],
   "source": [
    "# What happens when I give a sentence with strange words (and stop words), and try to get its word vector in Spacy?\n",
    "temp = nlp('practicalnlp is a newword')\n",
    "temp[0].vector"
   ]
  },
  {
   "cell_type": "code",
   "execution_count": null,
   "metadata": {},
   "outputs": [],
   "source": []
  }
 ],
 "metadata": {
  "kernelspec": {
   "display_name": "venv",
   "language": "python",
   "name": "python3"
  },
  "language_info": {
   "codemirror_mode": {
    "name": "ipython",
    "version": 3
   },
   "file_extension": ".py",
   "mimetype": "text/x-python",
   "name": "python",
   "nbconvert_exporter": "python",
   "pygments_lexer": "ipython3",
   "version": "3.11.12"
  }
 },
 "nbformat": 4,
 "nbformat_minor": 2
}
