{
 "cells": [
  {
   "cell_type": "markdown",
   "metadata": {},
   "source": [
    "# Bangla Text Preprocessing"
   ]
  },
  {
   "cell_type": "markdown",
   "metadata": {},
   "source": [
    "Create a function to normalize bangla text"
   ]
  },
  {
   "cell_type": "code",
   "execution_count": 1,
   "metadata": {},
   "outputs": [],
   "source": [
    "import re\n",
    "\n",
    "def normalize_bangla_text(text):\n",
    "    # Step 1: Remove invisible characters\n",
    "    text = text.replace('\\u200d', '')  # Zero-width joiner\n",
    "    text = text.replace('\\u200c', '')  # Zero-width non-joiner\n",
    "    text = text.replace('\\u00a0', ' ') # Non-breaking space to regular space\n",
    "    \n",
    "    # Step 2: Normalize visually similar characters\n",
    "    text = re.sub(r'[য়]', 'য়', text)   # Normalize 'য়' to 'য়'\n",
    "    text = re.sub(r'[র‍]', 'র', text)   # Remove ZWJ from 'র‍' if used wrongly\n",
    "    text = re.sub(r'[ৎ]', 'ত্', text)   # Rare cases where 'ৎ' needs to be decomposed\n",
    "    text = re.sub(r'[ড়]', 'র়', text)   # Normalize dotted র\n",
    "    text = re.sub(r'[ঢ়]', 'ঢ়', text)   # Normalize dotted ঢ\n",
    "    text = re.sub(r'[ঙ‍]', 'ঙ', text)   # Remove ZWJ after ঙ if it exists\n",
    "\n",
    "    # Step 3: Normalize vowel signs and nukta forms\n",
    "    text = re.sub(r'[\\u09c7\\u09c8]', '\\u09c7', text)  # Normalize e-kar and ai-kar variants\n",
    "    text = re.sub(r'[\\u09cb\\u09cc]', '\\u09cb', text)  # Normalize o-kar and au-kar variants\n",
    "    \n",
    "    # Optional: remove duplicate diacritics (common from faulty OCR or typing)\n",
    "    text = re.sub(r'([ািীুূেৈোৌ])\\1+', r'\\1', text)   # Collapse repeated vowel signs\n",
    "    \n",
    "    return text"
   ]
  },
  {
   "cell_type": "code",
   "execution_count": 3,
   "metadata": {},
   "outputs": [
    {
     "name": "stdout",
     "output_type": "stream",
     "text": [
      "আমি বাংলায় বই পড়তে ভালোবাসি। এটি খুবই আনন্দদায়ক! কিন্তু, কিছু বইয়ের দাম বেশি।\n",
      "আমি বাংলায়য় বই পডয়তে ভালোবাসি। এটি খুবই আনন্দদায়য়ক! কিন্তু, কিছু বইয়য়ের দাম বেশি।\n"
     ]
    }
   ],
   "source": [
    "bangla_text = \"আমি বাংলায় বই পড়তে ভালোবাসি। এটি খুবই আনন্দদায়ক! কিন্তু, কিছু বইয়ের দাম বেশি।\"\n",
    "print(bangla_text)\n",
    "print(normalize_bangla_text(bangla_text))"
   ]
  },
  {
   "cell_type": "code",
   "execution_count": null,
   "metadata": {},
   "outputs": [],
   "source": []
  }
 ],
 "metadata": {
  "kernelspec": {
   "display_name": "venv",
   "language": "python",
   "name": "python3"
  },
  "language_info": {
   "codemirror_mode": {
    "name": "ipython",
    "version": 3
   },
   "file_extension": ".py",
   "mimetype": "text/x-python",
   "name": "python",
   "nbconvert_exporter": "python",
   "pygments_lexer": "ipython3",
   "version": "3.12.3"
  }
 },
 "nbformat": 4,
 "nbformat_minor": 2
}
