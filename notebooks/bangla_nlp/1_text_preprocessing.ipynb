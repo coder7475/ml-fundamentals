{
 "cells": [
  {
   "cell_type": "markdown",
   "metadata": {},
   "source": [
    "# Bangla Text Preprocessing"
   ]
  },
  {
   "cell_type": "markdown",
   "metadata": {},
   "source": [
    "Create a function to normalize bangla text"
   ]
  },
  {
   "cell_type": "code",
   "execution_count": 7,
   "metadata": {},
   "outputs": [],
   "source": [
    "import re\n",
    "\n",
    "def normalize_bangla_text(text):\n",
    "    # Remove digits\n",
    "    text = re.sub(r'[০-৯]', '', text) \n",
    "    \n",
    "    # Step 1: Remove invisible characters\n",
    "    text = text.replace('\\u200d', '')  # Zero-width joiner\n",
    "    text = text.replace('\\u200c', '')  # Zero-width non-joiner\n",
    "    text = text.replace('\\u00a0', ' ') # Non-breaking space to regular space\n",
    "    \n",
    "    # Step 2: Normalize visually similar characters\n",
    "    text = re.sub(r'[য়]', 'য়', text)   # Normalize 'য়' to 'য়'\n",
    "    text = re.sub(r'[র‍]', 'র', text)   # Remove ZWJ from 'র‍' if used wrongly\n",
    "    text = re.sub(r'[ৎ]', 'ত্', text)   # Rare cases where 'ৎ' needs to be decomposed\n",
    "    text = re.sub(r'[ড়]', 'র়', text)   # Normalize dotted র\n",
    "    text = re.sub(r'[ঢ়]', 'ঢ়', text)   # Normalize dotted ঢ\n",
    "    text = re.sub(r'[ঙ‍]', 'ঙ', text)   # Remove ZWJ after ঙ if it exists\n",
    "\n",
    "    # Step 3: Normalize vowel signs and nukta forms\n",
    "    text = re.sub(r'[\\u09c7\\u09c8]', '\\u09c7', text)  # Normalize e-kar and ai-kar variants\n",
    "    text = re.sub(r'[\\u09cb\\u09cc]', '\\u09cb', text)  # Normalize o-kar and au-kar variants\n",
    "  \n",
    "    # Optional: remove duplicate diacritics (common from faulty OCR or typing)\n",
    "    text = re.sub(r'([ািীুূেৈোৌ])\\1+', r'\\1', text)   # Collapse repeated vowel signs\n",
    "    \n",
    "    return text"
   ]
  },
  {
   "cell_type": "code",
   "execution_count": 13,
   "metadata": {},
   "outputs": [
    {
     "data": {
      "text/plain": [
       "'আমি বাংলায়য় বই পডয়তে ভালোবাসি। এটি খুবই আনন্দদায়য়ক! কিন্তু, কিছু বইয়য়ের দাম বেশি। নাহলে আমি  টি বই কিনার ইচ্ছা আসে।'"
      ]
     },
     "execution_count": 13,
     "metadata": {},
     "output_type": "execute_result"
    }
   ],
   "source": [
    "bangla_text = \"আমি বাংলায় বই পড়তে ভালোবাসি। এটি খুবই আনন্দদায়ক! কিন্তু, কিছু বইয়ের দাম বেশি। নাহলে আমি ৪ টি বই কিনার ইচ্ছা আসে।\"\n",
    "\n",
    "text = normalize_bangla_text(bangla_text)\n",
    "text"
   ]
  },
  {
   "cell_type": "code",
   "execution_count": 16,
   "metadata": {},
   "outputs": [
    {
     "data": {
      "text/plain": [
       "'আম বলয়য় বই পডয়ত ভলবস এট খবই আননদদয়য়ক কনত কছ বইয়য়র দম বশ নহল আম  ট বই কনর ইচছ আস'"
      ]
     },
     "execution_count": 16,
     "metadata": {},
     "output_type": "execute_result"
    }
   ],
   "source": [
    "# Remove punctuation (including Bangla and English punctuation)\n",
    "punctuation_pattern = r'[^\\w\\s\\u0980-\\u09FF]'  # Retain Bangla and English word characters and whitespace\n",
    "text = re.sub(punctuation_pattern, '', text)\n",
    "text = text.strip()\n",
    "text"
   ]
  },
  {
   "cell_type": "code",
   "execution_count": 17,
   "metadata": {},
   "outputs": [
    {
     "name": "stdout",
     "output_type": "stream",
     "text": [
      "['আম', 'বলয়য়', 'বই', 'পডয়ত', 'ভলবস', 'এট', 'খবই', 'আননদদয়য়ক', 'কনত', 'কছ', 'বইয়য়র', 'দম', 'বশ', 'নহল', 'আম', 'ট', 'বই', 'কনর', 'ইচছ', 'আস']\n"
     ]
    }
   ],
   "source": [
    "# Tokenize (split by whitespace)\n",
    "tokens = text.split()\n",
    "print(tokens)"
   ]
  },
  {
   "cell_type": "code",
   "execution_count": 20,
   "metadata": {},
   "outputs": [
    {
     "name": "stdout",
     "output_type": "stream",
     "text": [
      "['আম', 'বলয়য়', 'বই', 'পডয়ত', 'ভলবস', 'এট', 'খবই', 'আননদদয়য়ক', 'কনত', 'কছ', 'বইয়য়র', 'দম', 'বশ', 'নহল', 'আম', 'ট', 'বই', 'কনর', 'ইচছ', 'আস']\n"
     ]
    }
   ],
   "source": [
    "# Define a basic set of Bangla stopwords\n",
    "bangla_stopwords = set([\n",
    "    'আমি', 'আমরা', 'তুমি', 'তোমরা', 'সে', 'তারা', 'এই', 'ওই', 'এটি', 'ওটি', 'এ', 'ও', 'কিছু', 'কিন্তু', 'আর', 'তবে', 'যে', 'যা', 'তাই', 'এবং', 'বা', 'এর', 'তার', 'এরই', 'তাদের', 'নাহলে', 'টি', 'একটি', 'খুবই', 'ভালো', 'ভালোবাসি', 'আসে', 'হয়', 'হয়', 'দিয়ে', 'দিয়ে', 'করে', 'করেছে', 'করেন', 'করছি', 'করবে', 'করার', 'কিনার', 'পড়তে', 'পড়ে', 'পড়ার', 'দাম', 'বেশি', 'আনন্দ', 'আনন্দদায়ক', 'আনন্দদায়ক', 'ভালোবাসা', 'ভালোবাসি', 'নয়', 'নয়', 'হয়েছে', 'হয়েছে', 'হয়নি', 'হয়নি'\n",
    "])\n",
    "\n",
    "# Remove stopwords\n",
    "filtered_tokens = [token for token in tokens if token not in bangla_stopwords]\n",
    "print(filtered_tokens)"
   ]
  },
  {
   "cell_type": "code",
   "execution_count": null,
   "metadata": {},
   "outputs": [],
   "source": []
  }
 ],
 "metadata": {
  "kernelspec": {
   "display_name": "venv",
   "language": "python",
   "name": "python3"
  },
  "language_info": {
   "codemirror_mode": {
    "name": "ipython",
    "version": 3
   },
   "file_extension": ".py",
   "mimetype": "text/x-python",
   "name": "python",
   "nbconvert_exporter": "python",
   "pygments_lexer": "ipython3",
   "version": "3.12.3"
  }
 },
 "nbformat": 4,
 "nbformat_minor": 2
}
