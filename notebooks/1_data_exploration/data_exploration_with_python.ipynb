{
 "cells": [
  {
   "cell_type": "markdown",
   "metadata": {},
   "source": [
    "## Learning ml data exploration with python\n",
    "\n",
    "Data scientists explore, analyze, and visualize data using various tools, with **Python** and Jupyter notebooks being among the most popular. Python's flexibility and extensive libraries make it ideal for data science and machine learning."
   ]
  },
  {
   "cell_type": "code",
   "execution_count": 3,
   "metadata": {},
   "outputs": [
    {
     "name": "stdout",
     "output_type": "stream",
     "text": [
      "Requirement already satisfied: numpy in /home/fahad/projects/personal/mlops/ml_fundamentals/venv/lib/python3.12/site-packages (2.2.5)\n",
      "Note: you may need to restart the kernel to use updated packages.\n",
      "Requirement already satisfied: pandas in /home/fahad/projects/personal/mlops/ml_fundamentals/venv/lib/python3.12/site-packages (2.2.3)\n",
      "Requirement already satisfied: numpy>=1.26.0 in /home/fahad/projects/personal/mlops/ml_fundamentals/venv/lib/python3.12/site-packages (from pandas) (2.2.5)\n",
      "Requirement already satisfied: python-dateutil>=2.8.2 in /home/fahad/projects/personal/mlops/ml_fundamentals/venv/lib/python3.12/site-packages (from pandas) (2.9.0.post0)\n",
      "Requirement already satisfied: pytz>=2020.1 in /home/fahad/projects/personal/mlops/ml_fundamentals/venv/lib/python3.12/site-packages (from pandas) (2025.2)\n",
      "Requirement already satisfied: tzdata>=2022.7 in /home/fahad/projects/personal/mlops/ml_fundamentals/venv/lib/python3.12/site-packages (from pandas) (2025.2)\n",
      "Requirement already satisfied: six>=1.5 in /home/fahad/projects/personal/mlops/ml_fundamentals/venv/lib/python3.12/site-packages (from python-dateutil>=2.8.2->pandas) (1.17.0)\n",
      "Note: you may need to restart the kernel to use updated packages.\n"
     ]
    }
   ],
   "source": [
    "# Dependencies Install cell\n",
    "%pip install numpy\n",
    "%pip install pandas"
   ]
  },
  {
   "cell_type": "markdown",
   "metadata": {},
   "source": [
    "## Exploring data arrays with NumPy\n",
    "\n",
    "Let's start by looking at some simple data. Suppose a college takes a sample of student grades for a data science class."
   ]
  },
  {
   "cell_type": "code",
   "execution_count": 4,
   "metadata": {},
   "outputs": [
    {
     "name": "stdout",
     "output_type": "stream",
     "text": [
      "[99, 68, 9, 19, 31, 10, 100, 60, 62, 51, 91, 24, 37, 86, 52, 65, 74, 10, 21, 65, 17, 51, 74, 77, 2, 50, 26, 34, 95, 82]\n"
     ]
    }
   ],
   "source": [
    "import random\n",
    "\n",
    "# Create 30 students grades randomly and save in list\n",
    "data = [random.randint(0, 100) for _ in range(30)]\n",
    "\n",
    "print(data)"
   ]
  },
  {
   "cell_type": "code",
   "execution_count": 5,
   "metadata": {},
   "outputs": [
    {
     "name": "stdout",
     "output_type": "stream",
     "text": [
      "[99, 68, 9, 19, 31, 10, 100, 60, 62, 51, 91, 24, 37, 86, 52, 65, 74, 10, 21, 65, 17, 51, 74, 77, 2, 50, 26, 34, 95, 82]\n",
      "[ 99  68   9  19  31  10 100  60  62  51  91  24  37  86  52  65  74  10\n",
      "  21  65  17  51  74  77   2  50  26  34  95  82]\n"
     ]
    }
   ],
   "source": [
    "# Create numpy array of data as list is not optimized for numeric analysis\n",
    "import numpy as np\n",
    "\n",
    "# convert data list into a numpy array - a numeric data structure optimzed for mathematical operations\n",
    "grades = np.array(data)\n",
    "\n",
    "# see the difference between a list and numpy array\n",
    "print(data)\n",
    "print(grades)"
   ]
  },
  {
   "cell_type": "code",
   "execution_count": 6,
   "metadata": {},
   "outputs": [
    {
     "name": "stdout",
     "output_type": "stream",
     "text": [
      "<class 'list'> x 2: [99, 68, 9, 19, 31, 10, 100, 60, 62, 51, 91, 24, 37, 86, 52, 65, 74, 10, 21, 65, 17, 51, 74, 77, 2, 50, 26, 34, 95, 82, 99, 68, 9, 19, 31, 10, 100, 60, 62, 51, 91, 24, 37, 86, 52, 65, 74, 10, 21, 65, 17, 51, 74, 77, 2, 50, 26, 34, 95, 82]\n",
      "<class 'numpy.ndarray'> x 2: [198 136  18  38  62  20 200 120 124 102 182  48  74 172 104 130 148  20\n",
      "  42 130  34 102 148 154   4 100  52  68 190 164]\n"
     ]
    }
   ],
   "source": [
    "# See the difference when we perform multiplication operaton\n",
    "print(type(data), 'x 2:', data * 2)\n",
    "print(type(grades), 'x 2:', grades * 2)\n"
   ]
  },
  {
   "cell_type": "markdown",
   "metadata": {},
   "source": [
    "Multiplying a list by 2 creates a new list of twice the length with the original sequence of list elements repeated.\n",
    "\n",
    "Multiplying a NumPy array on the other hand performs an element-wise calculation in which the array behaves like a vector. So we end up with an array of the same size in which each element has been multiplied by 2."
   ]
  },
  {
   "cell_type": "code",
   "execution_count": 7,
   "metadata": {},
   "outputs": [
    {
     "name": "stdout",
     "output_type": "stream",
     "text": [
      "(30,)\n"
     ]
    }
   ],
   "source": [
    "# Shape of numpy array\n",
    "print(grades.shape)"
   ]
  },
  {
   "cell_type": "code",
   "execution_count": 8,
   "metadata": {},
   "outputs": [
    {
     "name": "stdout",
     "output_type": "stream",
     "text": [
      "[9, 6, 3, 2, 2, 24, 2, 9, 13, 24, 10, 6, 2, 24, 2, 4, 8, 24, 18, 12, 14, 4, 24, 8, 16, 3, 17, 7, 16, 22]\n"
     ]
    }
   ],
   "source": [
    "# Add dimension to the grades array\n",
    "\n",
    "# Define study hours variable\n",
    "study_hours = [random.randint(1, 24) for _ in range(30)]\n",
    "print(study_hours)\n"
   ]
  },
  {
   "cell_type": "code",
   "execution_count": 9,
   "metadata": {},
   "outputs": [
    {
     "data": {
      "text/plain": [
       "array([[  9,   6,   3,   2,   2,  24,   2,   9,  13,  24,  10,   6,   2,\n",
       "         24,   2,   4,   8,  24,  18,  12,  14,   4,  24,   8,  16,   3,\n",
       "         17,   7,  16,  22],\n",
       "       [ 99,  68,   9,  19,  31,  10, 100,  60,  62,  51,  91,  24,  37,\n",
       "         86,  52,  65,  74,  10,  21,  65,  17,  51,  74,  77,   2,  50,\n",
       "         26,  34,  95,  82]])"
      ]
     },
     "execution_count": 9,
     "metadata": {},
     "output_type": "execute_result"
    }
   ],
   "source": [
    "# Create a 2D array (an array of arrays)\n",
    "student_data = np.array([study_hours, grades])\n",
    "student_data"
   ]
  },
  {
   "cell_type": "code",
   "execution_count": 10,
   "metadata": {},
   "outputs": [
    {
     "name": "stdout",
     "output_type": "stream",
     "text": [
      "(2, 30)\n"
     ]
    }
   ],
   "source": [
    "print(student_data.shape)"
   ]
  },
  {
   "cell_type": "code",
   "execution_count": 11,
   "metadata": {},
   "outputs": [
    {
     "name": "stdout",
     "output_type": "stream",
     "text": [
      "[[  9   6   3   2   2  24   2   9  13  24  10   6   2  24   2   4   8  24\n",
      "   18  12  14   4  24   8  16   3  17   7  16  22]\n",
      " [ 99  68   9  19  31  10 100  60  62  51  91  24  37  86  52  65  74  10\n",
      "   21  65  17  51  74  77   2  50  26  34  95  82]]\n",
      "[ 9  6  3  2  2 24  2  9 13 24 10  6  2 24  2  4  8 24 18 12 14  4 24  8\n",
      " 16  3 17  7 16 22]\n",
      "[ 99  68   9  19  31  10 100  60  62  51  91  24  37  86  52  65  74  10\n",
      "  21  65  17  51  74  77   2  50  26  34  95  82]\n",
      "9\n",
      "99\n"
     ]
    }
   ],
   "source": [
    "# 2d array\n",
    "print(student_data)\n",
    "# first array\n",
    "print(student_data[0])\n",
    "# second array\n",
    "print(student_data[1])\n",
    "# first array - first element\n",
    "print(student_data[0][0])\n",
    "# second array - first element\n",
    "print(student_data[1][0])"
   ]
  },
  {
   "cell_type": "code",
   "execution_count": 12,
   "metadata": {},
   "outputs": [
    {
     "name": "stdout",
     "output_type": "stream",
     "text": [
      "Average study hours: 11.17\n",
      "Average grade: 51.40\n"
     ]
    }
   ],
   "source": [
    "# Apply some operation\n",
    "# Get the mean value of each sub-array\n",
    "avg_study = student_data[0].mean()\n",
    "avg_grade = student_data[1].mean()\n",
    "\n",
    "print('Average study hours: {:.2f}\\nAverage grade: {:.2f}'.format(avg_study, avg_grade))"
   ]
  },
  {
   "cell_type": "markdown",
   "metadata": {},
   "source": [
    "## Exploring tabular data with Pandas\n",
    "\n",
    "While NumPy provides a lot of the functionality you need to work with numbers, and specifically arrays of numeric values; when you start to deal with two-dimensional tables of data, the **Pandas** package offers a more convenient structure to work with - the **DataFrame**."
   ]
  },
  {
   "cell_type": "code",
   "execution_count": 17,
   "metadata": {},
   "outputs": [
    {
     "ename": "SyntaxError",
     "evalue": "expression expected after dictionary key and ':' (3044002147.py, line 11)",
     "output_type": "error",
     "traceback": [
      "  \u001b[36mCell\u001b[39m\u001b[36m \u001b[39m\u001b[32mIn[17]\u001b[39m\u001b[32m, line 11\u001b[39m\n\u001b[31m    \u001b[39m\u001b[31m'Name': ,\u001b[39m\n          ^\n\u001b[31mSyntaxError\u001b[39m\u001b[31m:\u001b[39m expression expected after dictionary key and ':'\n"
     ]
    }
   ],
   "source": [
    "# Create a students dataframe\n",
    "import pandas as pd\n",
    "students_names = [ 'Jakeem','Helena','Ismat','Anila','Skye','Daniel','Aisha', \n",
    "                 'Liam', 'Noah', 'Elijah', 'James', 'William', 'Benjamin', \n",
    "                 'Lucas', 'Mason', 'Oliver', 'Evelyn', 'Abigail', 'Emily', 'Harper', \n",
    "                 'Amelia', 'Ava', 'Sophia', 'Mia', 'Isabella', 'Charlotte', 'Gianna',\n",
    "                 'Saif', 'Asif', 'Jawad', 'Fahad'\n",
    "                ]\n",
    "# df_students = pd.DataFrame(\n",
    "#     {\n",
    "#         'Name': ,\n",
    "#         'StudyHours': student_data[0],\n",
    "#         'Grade': student_data[1]\n",
    "#     }\n",
    "# )"
   ]
  },
  {
   "cell_type": "code",
   "execution_count": null,
   "metadata": {},
   "outputs": [],
   "source": []
  }
 ],
 "metadata": {
  "kernelspec": {
   "display_name": "venv",
   "language": "python",
   "name": "python3"
  },
  "language_info": {
   "codemirror_mode": {
    "name": "ipython",
    "version": 3
   },
   "file_extension": ".py",
   "mimetype": "text/x-python",
   "name": "python",
   "nbconvert_exporter": "python",
   "pygments_lexer": "ipython3",
   "version": "3.12.3"
  }
 },
 "nbformat": 4,
 "nbformat_minor": 2
}
