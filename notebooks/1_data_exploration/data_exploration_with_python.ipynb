{
 "cells": [
  {
   "cell_type": "markdown",
   "metadata": {},
   "source": [
    "## Learning ml data exploration with python\n",
    "\n",
    "Data scientists explore, analyze, and visualize data using various tools, with **Python** and Jupyter notebooks being among the most popular. Python's flexibility and extensive libraries make it ideal for data science and machine learning."
   ]
  },
  {
   "cell_type": "code",
   "execution_count": 2,
   "metadata": {},
   "outputs": [
    {
     "name": "stdout",
     "output_type": "stream",
     "text": [
      "Requirement already satisfied: numpy in /home/fahad/projects/personal/mlops/ml_fundamentals/venv/lib/python3.12/site-packages (2.2.5)\n",
      "Note: you may need to restart the kernel to use updated packages.\n",
      "Requirement already satisfied: pandas in /home/fahad/projects/personal/mlops/ml_fundamentals/venv/lib/python3.12/site-packages (2.2.3)\n",
      "Requirement already satisfied: numpy>=1.26.0 in /home/fahad/projects/personal/mlops/ml_fundamentals/venv/lib/python3.12/site-packages (from pandas) (2.2.5)\n",
      "Requirement already satisfied: python-dateutil>=2.8.2 in /home/fahad/projects/personal/mlops/ml_fundamentals/venv/lib/python3.12/site-packages (from pandas) (2.9.0.post0)\n",
      "Requirement already satisfied: pytz>=2020.1 in /home/fahad/projects/personal/mlops/ml_fundamentals/venv/lib/python3.12/site-packages (from pandas) (2025.2)\n",
      "Requirement already satisfied: tzdata>=2022.7 in /home/fahad/projects/personal/mlops/ml_fundamentals/venv/lib/python3.12/site-packages (from pandas) (2025.2)\n",
      "Requirement already satisfied: six>=1.5 in /home/fahad/projects/personal/mlops/ml_fundamentals/venv/lib/python3.12/site-packages (from python-dateutil>=2.8.2->pandas) (1.17.0)\n",
      "Note: you may need to restart the kernel to use updated packages.\n"
     ]
    }
   ],
   "source": [
    "# Dependencies Install cell\n",
    "%pip install numpy\n",
    "%pip install pandas"
   ]
  },
  {
   "cell_type": "markdown",
   "metadata": {},
   "source": [
    "## Exploring data arrays with NumPy\n",
    "\n",
    "Let's start by looking at some simple data. Suppose a college takes a sample of student grades for a data science class."
   ]
  },
  {
   "cell_type": "code",
   "execution_count": 3,
   "metadata": {},
   "outputs": [
    {
     "name": "stdout",
     "output_type": "stream",
     "text": [
      "[51, 34, 90, 1, 47, 20, 56, 81, 51, 30, 69, 45, 78, 23, 35, 18, 80, 41, 48, 8, 83, 11, 43, 42, 71, 30, 51, 92, 97, 49]\n"
     ]
    }
   ],
   "source": [
    "import random\n",
    "\n",
    "# Create 30 students grades randomly and save in list\n",
    "data = [random.randint(0, 100) for _ in range(30)]\n",
    "\n",
    "print(data)"
   ]
  },
  {
   "cell_type": "code",
   "execution_count": 4,
   "metadata": {},
   "outputs": [
    {
     "name": "stdout",
     "output_type": "stream",
     "text": [
      "[51, 34, 90, 1, 47, 20, 56, 81, 51, 30, 69, 45, 78, 23, 35, 18, 80, 41, 48, 8, 83, 11, 43, 42, 71, 30, 51, 92, 97, 49]\n",
      "[51 34 90  1 47 20 56 81 51 30 69 45 78 23 35 18 80 41 48  8 83 11 43 42\n",
      " 71 30 51 92 97 49]\n"
     ]
    }
   ],
   "source": [
    "# Create numpy array of data as list is not optimized for numeric analysis\n",
    "import numpy as np\n",
    "\n",
    "# convert data list into a numpy array - a numeric data structure optimzed for mathematical operations\n",
    "grades = np.array(data)\n",
    "\n",
    "# see the difference between a list and numpy array\n",
    "print(data)\n",
    "print(grades)"
   ]
  },
  {
   "cell_type": "code",
   "execution_count": 5,
   "metadata": {},
   "outputs": [
    {
     "name": "stdout",
     "output_type": "stream",
     "text": [
      "<class 'list'> x 2: [51, 34, 90, 1, 47, 20, 56, 81, 51, 30, 69, 45, 78, 23, 35, 18, 80, 41, 48, 8, 83, 11, 43, 42, 71, 30, 51, 92, 97, 49, 51, 34, 90, 1, 47, 20, 56, 81, 51, 30, 69, 45, 78, 23, 35, 18, 80, 41, 48, 8, 83, 11, 43, 42, 71, 30, 51, 92, 97, 49]\n",
      "<class 'numpy.ndarray'> x 2: [102  68 180   2  94  40 112 162 102  60 138  90 156  46  70  36 160  82\n",
      "  96  16 166  22  86  84 142  60 102 184 194  98]\n"
     ]
    }
   ],
   "source": [
    "# See the difference when we perform multiplication operaton\n",
    "print(type(data), 'x 2:', data * 2)\n",
    "print(type(grades), 'x 2:', grades * 2)\n"
   ]
  },
  {
   "cell_type": "markdown",
   "metadata": {},
   "source": [
    "Multiplying a list by 2 creates a new list of twice the length with the original sequence of list elements repeated.\n",
    "\n",
    "Multiplying a NumPy array on the other hand performs an element-wise calculation in which the array behaves like a vector. So we end up with an array of the same size in which each element has been multiplied by 2."
   ]
  },
  {
   "cell_type": "code",
   "execution_count": 6,
   "metadata": {},
   "outputs": [
    {
     "name": "stdout",
     "output_type": "stream",
     "text": [
      "(30,)\n"
     ]
    }
   ],
   "source": [
    "# Shape of numpy array\n",
    "print(grades.shape)"
   ]
  },
  {
   "cell_type": "code",
   "execution_count": 7,
   "metadata": {},
   "outputs": [
    {
     "name": "stdout",
     "output_type": "stream",
     "text": [
      "[16, 12, 12, 2, 8, 1, 5, 8, 6, 19, 9, 9, 8, 9, 3, 19, 24, 3, 5, 18, 15, 24, 23, 20, 12, 19, 3, 11, 1, 11]\n"
     ]
    }
   ],
   "source": [
    "# Add dimension to the grades array\n",
    "\n",
    "# Define study hours variable\n",
    "study_hours = [random.randint(1, 24) for _ in range(30)]\n",
    "print(study_hours)\n"
   ]
  },
  {
   "cell_type": "code",
   "execution_count": 8,
   "metadata": {},
   "outputs": [
    {
     "data": {
      "text/plain": [
       "array([[16, 12, 12,  2,  8,  1,  5,  8,  6, 19,  9,  9,  8,  9,  3, 19,\n",
       "        24,  3,  5, 18, 15, 24, 23, 20, 12, 19,  3, 11,  1, 11],\n",
       "       [51, 34, 90,  1, 47, 20, 56, 81, 51, 30, 69, 45, 78, 23, 35, 18,\n",
       "        80, 41, 48,  8, 83, 11, 43, 42, 71, 30, 51, 92, 97, 49]])"
      ]
     },
     "execution_count": 8,
     "metadata": {},
     "output_type": "execute_result"
    }
   ],
   "source": [
    "# Create a 2D array (an array of arrays)\n",
    "student_data = np.array([study_hours, grades])\n",
    "student_data"
   ]
  },
  {
   "cell_type": "code",
   "execution_count": 9,
   "metadata": {},
   "outputs": [
    {
     "name": "stdout",
     "output_type": "stream",
     "text": [
      "(2, 30)\n"
     ]
    }
   ],
   "source": [
    "print(student_data.shape)"
   ]
  },
  {
   "cell_type": "code",
   "execution_count": 10,
   "metadata": {},
   "outputs": [
    {
     "name": "stdout",
     "output_type": "stream",
     "text": [
      "[[16 12 12  2  8  1  5  8  6 19  9  9  8  9  3 19 24  3  5 18 15 24 23 20\n",
      "  12 19  3 11  1 11]\n",
      " [51 34 90  1 47 20 56 81 51 30 69 45 78 23 35 18 80 41 48  8 83 11 43 42\n",
      "  71 30 51 92 97 49]]\n",
      "[16 12 12  2  8  1  5  8  6 19  9  9  8  9  3 19 24  3  5 18 15 24 23 20\n",
      " 12 19  3 11  1 11]\n",
      "[51 34 90  1 47 20 56 81 51 30 69 45 78 23 35 18 80 41 48  8 83 11 43 42\n",
      " 71 30 51 92 97 49]\n",
      "16\n",
      "51\n"
     ]
    }
   ],
   "source": [
    "# 2d array\n",
    "print(student_data)\n",
    "# first array\n",
    "print(student_data[0])\n",
    "# second array\n",
    "print(student_data[1])\n",
    "# first array - first element\n",
    "print(student_data[0][0])\n",
    "# second array - first element\n",
    "print(student_data[1][0])"
   ]
  },
  {
   "cell_type": "code",
   "execution_count": 11,
   "metadata": {},
   "outputs": [
    {
     "name": "stdout",
     "output_type": "stream",
     "text": [
      "Average study hours: 11.17\n",
      "Average grade: 49.17\n"
     ]
    }
   ],
   "source": [
    "# Apply some operation\n",
    "# Get the mean value of each sub-array\n",
    "avg_study = student_data[0].mean()\n",
    "avg_grade = student_data[1].mean()\n",
    "\n",
    "print('Average study hours: {:.2f}\\nAverage grade: {:.2f}'.format(avg_study, avg_grade))"
   ]
  },
  {
   "cell_type": "markdown",
   "metadata": {},
   "source": [
    "## Exploring tabular data with Pandas\n",
    "\n",
    "While NumPy provides a lot of the functionality you need to work with numbers, and specifically arrays of numeric values; when you start to deal with two-dimensional tables of data, the **Pandas** package offers a more convenient structure to work with - the **DataFrame**."
   ]
  },
  {
   "cell_type": "code",
   "execution_count": 15,
   "metadata": {},
   "outputs": [
    {
     "data": {
      "text/html": [
       "<div>\n",
       "<style scoped>\n",
       "    .dataframe tbody tr th:only-of-type {\n",
       "        vertical-align: middle;\n",
       "    }\n",
       "\n",
       "    .dataframe tbody tr th {\n",
       "        vertical-align: top;\n",
       "    }\n",
       "\n",
       "    .dataframe thead th {\n",
       "        text-align: right;\n",
       "    }\n",
       "</style>\n",
       "<table border=\"1\" class=\"dataframe\">\n",
       "  <thead>\n",
       "    <tr style=\"text-align: right;\">\n",
       "      <th></th>\n",
       "      <th>Name</th>\n",
       "      <th>StudyHours</th>\n",
       "      <th>Grade</th>\n",
       "    </tr>\n",
       "  </thead>\n",
       "  <tbody>\n",
       "    <tr>\n",
       "      <th>0</th>\n",
       "      <td>Jakeem</td>\n",
       "      <td>16</td>\n",
       "      <td>51</td>\n",
       "    </tr>\n",
       "    <tr>\n",
       "      <th>1</th>\n",
       "      <td>Helena</td>\n",
       "      <td>12</td>\n",
       "      <td>34</td>\n",
       "    </tr>\n",
       "    <tr>\n",
       "      <th>2</th>\n",
       "      <td>Ismat</td>\n",
       "      <td>12</td>\n",
       "      <td>90</td>\n",
       "    </tr>\n",
       "    <tr>\n",
       "      <th>3</th>\n",
       "      <td>Anila</td>\n",
       "      <td>2</td>\n",
       "      <td>1</td>\n",
       "    </tr>\n",
       "    <tr>\n",
       "      <th>4</th>\n",
       "      <td>Skye</td>\n",
       "      <td>8</td>\n",
       "      <td>47</td>\n",
       "    </tr>\n",
       "    <tr>\n",
       "      <th>5</th>\n",
       "      <td>Daniel</td>\n",
       "      <td>1</td>\n",
       "      <td>20</td>\n",
       "    </tr>\n",
       "  </tbody>\n",
       "</table>\n",
       "</div>"
      ],
      "text/plain": [
       "     Name  StudyHours  Grade\n",
       "0  Jakeem          16     51\n",
       "1  Helena          12     34\n",
       "2   Ismat          12     90\n",
       "3   Anila           2      1\n",
       "4    Skye           8     47\n",
       "5  Daniel           1     20"
      ]
     },
     "execution_count": 15,
     "metadata": {},
     "output_type": "execute_result"
    }
   ],
   "source": [
    "# Create a students dataframe\n",
    "import pandas as pd\n",
    "\n",
    "# Define students names\n",
    "students_names = [ 'Jakeem','Helena','Ismat','Anila','Skye',\n",
    "                  'Daniel','Aisha', 'Liam', 'Noah', 'Elijah', \n",
    "                  'James', 'William', 'Benjamin', 'Lucas', 'Mason', \n",
    "                  'Oliver', 'Evelyn', 'Abigail', 'Emily', 'Harper', \n",
    "                 'Amelia', 'Ava', 'Sophia', 'Mia', 'Isabella', \n",
    "                 'Charlotte', 'Gianna', 'Saif', 'Asif', 'Jawad'\n",
    "                ]\n",
    "\n",
    "# print(len(students_names))\n",
    "# Create a dataframe of students\n",
    "df_students = pd.DataFrame(\n",
    "    {\n",
    "        'Name': students_names,\n",
    "        'StudyHours': student_data[0],\n",
    "        'Grade': student_data[1]\n",
    "    }\n",
    ")\n",
    "\n",
    "df_students.head(6)"
   ]
  },
  {
   "cell_type": "markdown",
   "metadata": {},
   "source": [
    "## Finding and filtering data in a DataFrame"
   ]
  },
  {
   "cell_type": "code",
   "execution_count": 13,
   "metadata": {},
   "outputs": [
    {
     "name": "stdout",
     "output_type": "stream",
     "text": [
      "Name          Daniel\n",
      "StudyHours         1\n",
      "Grade             20\n",
      "Name: 5, dtype: object\n"
     ]
    }
   ],
   "source": [
    "# Get the data for index 5\n",
    "print(df_students.loc[5])"
   ]
  },
  {
   "cell_type": "code",
   "execution_count": 16,
   "metadata": {},
   "outputs": [
    {
     "name": "stdout",
     "output_type": "stream",
     "text": [
      "     Name  StudyHours  Grade\n",
      "0  Jakeem          16     51\n",
      "1  Helena          12     34\n",
      "2   Ismat          12     90\n",
      "3   Anila           2      1\n",
      "4    Skye           8     47\n",
      "5  Daniel           1     20\n"
     ]
    }
   ],
   "source": [
    "# Get the rows with index values from 0 to 5\n",
    "print(df_students.loc[0:5]) "
   ]
  },
  {
   "cell_type": "code",
   "execution_count": null,
   "metadata": {},
   "outputs": [],
   "source": []
  }
 ],
 "metadata": {
  "kernelspec": {
   "display_name": "venv",
   "language": "python",
   "name": "python3"
  },
  "language_info": {
   "codemirror_mode": {
    "name": "ipython",
    "version": 3
   },
   "file_extension": ".py",
   "mimetype": "text/x-python",
   "name": "python",
   "nbconvert_exporter": "python",
   "pygments_lexer": "ipython3",
   "version": "3.12.3"
  }
 },
 "nbformat": 4,
 "nbformat_minor": 2
}
