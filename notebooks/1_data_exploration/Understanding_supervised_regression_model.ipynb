{
 "cells": [
  {
   "cell_type": "markdown",
   "metadata": {},
   "source": [
    "# Understanding Supervised Regression Models\n",
    "\n",
    "Use supervised regression techniques to **predict daily bicycle rentals for a bike-sharing service**. **Using historical data, we train and evaluate multiple regression models to forecast rental counts based on features such as weather, season, and weekday**. "
   ]
  },
  {
   "cell_type": "markdown",
   "metadata": {},
   "source": [
    "## Regression\n",
    "\n",
    "_Supervised_ machine learning techniques involve training a model to operate on a set of _features_ and predict a _label_ using a dataset that includes some already-known label values. The training process _fits_ the features to the known labels to define a general function that can be applied to new features for which the labels are unknown, and predict them. You can think of this function like this, in which **_y_** represents the label we want to predict and **_x_** represents the features the model uses to predict it.\n",
    "\n",
    "$$y = f(x)$$\n",
    "\n",
    "In most cases, _x_ is actually a _vector_ that consists of multiple feature values, so to be a little more precise, the function could be expressed like this:\n",
    "\n",
    "$$y = f([x_1, x_2, x_3, ...])$$\n",
    "\n",
    "The goal of training the model is to find a function that performs some kind of calculation to the _x_ values that produces the result _y_. We do this by applying a machine learning _algorithm_ that tries to fit the _x_ values to a calculation that produces _y_ reasonably accurately for all of the cases in the training dataset.\n",
    "\n",
    "There are lots of machine learning algorithms for supervised learning, and they can be broadly divided into two types:\n",
    "\n",
    "**_Regression_ algorithms**: Algorithms that predict a _y_ value that is a numeric value, such as the price of a house or the number of sales transactions.\n",
    "\n",
    "**_Classification_ algorithms**: Algorithms that predict to which category, or _class_, an observation belongs. The _y_ value in a classification model is a vector of probability values between 0 and 1, one for each class, indicating the probability of the observation belonging to each class.\n",
    "\n",
    "In this notebook, we'll focus on _regression_, using an example based on a real study in which data for a bicycle sharing scheme was collected and used to predict the number of rentals based on seasonality and weather conditions. We'll use a simplified version of the dataset from that study.\n",
    "\n",
    "**Citation**: The data used in this exercise is derived from [Capital Bikeshare](https://www.capitalbikeshare.com/system-data) and is used in accordance with the published [license agreement](https://www.capitalbikeshare.com/data-license-agreement).\n"
   ]
  },
  {
   "cell_type": "code",
   "execution_count": null,
   "metadata": {},
   "outputs": [],
   "source": []
  }
 ],
 "metadata": {
  "kernelspec": {
   "display_name": "venv",
   "language": "python",
   "name": "python3"
  },
  "language_info": {
   "name": "python",
   "version": "3.12.3"
  }
 },
 "nbformat": 4,
 "nbformat_minor": 2
}
